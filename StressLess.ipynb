{
 "cells": [
  {
   "attachments": {},
   "cell_type": "markdown",
   "metadata": {},
   "source": [
    "## HUH😏"
   ]
  },
  {
   "cell_type": "code",
   "execution_count": 106,
   "metadata": {},
   "outputs": [],
   "source": [
    "import pandas as pd\n",
    "import numpy as np\n",
    "import datetime as dt\n",
    "import matplotlib.pyplot as plt\n",
    "import seaborn as sns\n",
    "import numpy as np\n",
    "from sklearn.model_selection import train_test_split, cross_val_score\n",
    "from sklearn.preprocessing import StandardScaler\n",
    "from sklearn.linear_model import LogisticRegression\n",
    "from sklearn.ensemble import RandomForestClassifier\n",
    "from sklearn.tree import DecisionTreeClassifier\n",
    "from sklearn.svm import SVC\n",
    "from sklearn.naive_bayes import BernoulliNB\n",
    "from sklearn.metrics import accuracy_score"
   ]
  },
  {
   "cell_type": "code",
   "execution_count": 107,
   "metadata": {},
   "outputs": [],
   "source": [
    "import pandas as pd\n",
    "import numpy as np\n",
    "import matplotlib.pyplot as plt\n",
    "import seaborn as sns\n",
    "%matplotlib inline"
   ]
  },
  {
   "cell_type": "code",
   "execution_count": 108,
   "metadata": {},
   "outputs": [],
   "source": [
    "data = 'SaYoPillow.csv'\n",
    "\n",
    "df = pd.read_csv(data)"
   ]
  },
  {
   "cell_type": "code",
   "execution_count": 109,
   "metadata": {},
   "outputs": [],
   "source": [
    "import warnings\n",
    "\n",
    "warnings.filterwarnings('ignore')"
   ]
  },
  {
   "cell_type": "code",
   "execution_count": 110,
   "metadata": {},
   "outputs": [
    {
     "data": {
      "text/plain": [
       "(630, 6)"
      ]
     },
     "execution_count": 110,
     "metadata": {},
     "output_type": "execute_result"
    }
   ],
   "source": [
    "df.shape"
   ]
  },
  {
   "cell_type": "code",
   "execution_count": 111,
   "metadata": {},
   "outputs": [
    {
     "data": {
      "text/html": [
       "<div>\n",
       "<style scoped>\n",
       "    .dataframe tbody tr th:only-of-type {\n",
       "        vertical-align: middle;\n",
       "    }\n",
       "\n",
       "    .dataframe tbody tr th {\n",
       "        vertical-align: top;\n",
       "    }\n",
       "\n",
       "    .dataframe thead th {\n",
       "        text-align: right;\n",
       "    }\n",
       "</style>\n",
       "<table border=\"1\" class=\"dataframe\">\n",
       "  <thead>\n",
       "    <tr style=\"text-align: right;\">\n",
       "      <th></th>\n",
       "      <th>body_temperature</th>\n",
       "      <th>limb_movement</th>\n",
       "      <th>Blood_oxygen</th>\n",
       "      <th>Sleeping_hours</th>\n",
       "      <th>Heart_rate</th>\n",
       "      <th>Stress_level</th>\n",
       "    </tr>\n",
       "  </thead>\n",
       "  <tbody>\n",
       "    <tr>\n",
       "      <th>0</th>\n",
       "      <td>91.840</td>\n",
       "      <td>16.600</td>\n",
       "      <td>89.840</td>\n",
       "      <td>1.840</td>\n",
       "      <td>74.20</td>\n",
       "      <td>3</td>\n",
       "    </tr>\n",
       "    <tr>\n",
       "      <th>1</th>\n",
       "      <td>91.552</td>\n",
       "      <td>15.880</td>\n",
       "      <td>89.552</td>\n",
       "      <td>1.552</td>\n",
       "      <td>72.76</td>\n",
       "      <td>3</td>\n",
       "    </tr>\n",
       "    <tr>\n",
       "      <th>2</th>\n",
       "      <td>96.000</td>\n",
       "      <td>10.000</td>\n",
       "      <td>95.000</td>\n",
       "      <td>7.000</td>\n",
       "      <td>60.00</td>\n",
       "      <td>1</td>\n",
       "    </tr>\n",
       "    <tr>\n",
       "      <th>3</th>\n",
       "      <td>90.768</td>\n",
       "      <td>13.920</td>\n",
       "      <td>88.768</td>\n",
       "      <td>0.768</td>\n",
       "      <td>68.84</td>\n",
       "      <td>3</td>\n",
       "    </tr>\n",
       "    <tr>\n",
       "      <th>4</th>\n",
       "      <td>97.872</td>\n",
       "      <td>6.496</td>\n",
       "      <td>96.248</td>\n",
       "      <td>8.248</td>\n",
       "      <td>53.12</td>\n",
       "      <td>0</td>\n",
       "    </tr>\n",
       "  </tbody>\n",
       "</table>\n",
       "</div>"
      ],
      "text/plain": [
       "   body_temperature  limb_movement  Blood_oxygen  Sleeping_hours  Heart_rate  \\\n",
       "0            91.840         16.600        89.840           1.840       74.20   \n",
       "1            91.552         15.880        89.552           1.552       72.76   \n",
       "2            96.000         10.000        95.000           7.000       60.00   \n",
       "3            90.768         13.920        88.768           0.768       68.84   \n",
       "4            97.872          6.496        96.248           8.248       53.12   \n",
       "\n",
       "   Stress_level  \n",
       "0             3  \n",
       "1             3  \n",
       "2             1  \n",
       "3             3  \n",
       "4             0  "
      ]
     },
     "execution_count": 111,
     "metadata": {},
     "output_type": "execute_result"
    }
   ],
   "source": [
    "df.head()"
   ]
  },
  {
   "cell_type": "code",
   "execution_count": 112,
   "metadata": {},
   "outputs": [
    {
     "data": {
      "text/plain": [
       "0"
      ]
     },
     "execution_count": 112,
     "metadata": {},
     "output_type": "execute_result"
    }
   ],
   "source": [
    "df.isnull().values.sum()"
   ]
  },
  {
   "cell_type": "code",
   "execution_count": 113,
   "metadata": {},
   "outputs": [
    {
     "data": {
      "text/plain": [
       "0"
      ]
     },
     "execution_count": 113,
     "metadata": {},
     "output_type": "execute_result"
    }
   ],
   "source": [
    "df.duplicated().sum()"
   ]
  },
  {
   "cell_type": "code",
   "execution_count": 114,
   "metadata": {},
   "outputs": [
    {
     "data": {
      "text/plain": [
       "body_temperature    float64\n",
       "limb_movement       float64\n",
       "Blood_oxygen        float64\n",
       "Sleeping_hours      float64\n",
       "Heart_rate          float64\n",
       "Stress_level          int64\n",
       "dtype: object"
      ]
     },
     "execution_count": 114,
     "metadata": {},
     "output_type": "execute_result"
    }
   ],
   "source": [
    "df.dtypes"
   ]
  },
  {
   "cell_type": "code",
   "execution_count": 115,
   "metadata": {},
   "outputs": [
    {
     "data": {
      "text/html": [
       "<div>\n",
       "<style scoped>\n",
       "    .dataframe tbody tr th:only-of-type {\n",
       "        vertical-align: middle;\n",
       "    }\n",
       "\n",
       "    .dataframe tbody tr th {\n",
       "        vertical-align: top;\n",
       "    }\n",
       "\n",
       "    .dataframe thead th {\n",
       "        text-align: right;\n",
       "    }\n",
       "</style>\n",
       "<table border=\"1\" class=\"dataframe\">\n",
       "  <thead>\n",
       "    <tr style=\"text-align: right;\">\n",
       "      <th></th>\n",
       "      <th>body_temperature</th>\n",
       "      <th>limb_movement</th>\n",
       "      <th>Blood_oxygen</th>\n",
       "      <th>Sleeping_hours</th>\n",
       "      <th>Heart_rate</th>\n",
       "      <th>Stress_level</th>\n",
       "    </tr>\n",
       "  </thead>\n",
       "  <tbody>\n",
       "    <tr>\n",
       "      <th>count</th>\n",
       "      <td>630.00000</td>\n",
       "      <td>630.000000</td>\n",
       "      <td>630.000000</td>\n",
       "      <td>630.000000</td>\n",
       "      <td>630.000000</td>\n",
       "      <td>630.000000</td>\n",
       "    </tr>\n",
       "    <tr>\n",
       "      <th>mean</th>\n",
       "      <td>92.80000</td>\n",
       "      <td>11.700000</td>\n",
       "      <td>90.900000</td>\n",
       "      <td>3.700000</td>\n",
       "      <td>64.500000</td>\n",
       "      <td>2.000000</td>\n",
       "    </tr>\n",
       "    <tr>\n",
       "      <th>std</th>\n",
       "      <td>3.52969</td>\n",
       "      <td>4.299629</td>\n",
       "      <td>3.902483</td>\n",
       "      <td>3.054572</td>\n",
       "      <td>9.915277</td>\n",
       "      <td>1.415337</td>\n",
       "    </tr>\n",
       "    <tr>\n",
       "      <th>min</th>\n",
       "      <td>85.00000</td>\n",
       "      <td>4.000000</td>\n",
       "      <td>82.000000</td>\n",
       "      <td>0.000000</td>\n",
       "      <td>50.000000</td>\n",
       "      <td>0.000000</td>\n",
       "    </tr>\n",
       "    <tr>\n",
       "      <th>25%</th>\n",
       "      <td>90.50000</td>\n",
       "      <td>8.500000</td>\n",
       "      <td>88.500000</td>\n",
       "      <td>0.500000</td>\n",
       "      <td>56.250000</td>\n",
       "      <td>1.000000</td>\n",
       "    </tr>\n",
       "    <tr>\n",
       "      <th>50%</th>\n",
       "      <td>93.00000</td>\n",
       "      <td>11.000000</td>\n",
       "      <td>91.000000</td>\n",
       "      <td>3.500000</td>\n",
       "      <td>62.500000</td>\n",
       "      <td>2.000000</td>\n",
       "    </tr>\n",
       "    <tr>\n",
       "      <th>75%</th>\n",
       "      <td>95.50000</td>\n",
       "      <td>15.750000</td>\n",
       "      <td>94.250000</td>\n",
       "      <td>6.500000</td>\n",
       "      <td>72.500000</td>\n",
       "      <td>3.000000</td>\n",
       "    </tr>\n",
       "    <tr>\n",
       "      <th>max</th>\n",
       "      <td>99.00000</td>\n",
       "      <td>19.000000</td>\n",
       "      <td>97.000000</td>\n",
       "      <td>9.000000</td>\n",
       "      <td>85.000000</td>\n",
       "      <td>4.000000</td>\n",
       "    </tr>\n",
       "  </tbody>\n",
       "</table>\n",
       "</div>"
      ],
      "text/plain": [
       "       body_temperature  limb_movement  Blood_oxygen  Sleeping_hours  \\\n",
       "count         630.00000     630.000000    630.000000      630.000000   \n",
       "mean           92.80000      11.700000     90.900000        3.700000   \n",
       "std             3.52969       4.299629      3.902483        3.054572   \n",
       "min            85.00000       4.000000     82.000000        0.000000   \n",
       "25%            90.50000       8.500000     88.500000        0.500000   \n",
       "50%            93.00000      11.000000     91.000000        3.500000   \n",
       "75%            95.50000      15.750000     94.250000        6.500000   \n",
       "max            99.00000      19.000000     97.000000        9.000000   \n",
       "\n",
       "       Heart_rate  Stress_level  \n",
       "count  630.000000    630.000000  \n",
       "mean    64.500000      2.000000  \n",
       "std      9.915277      1.415337  \n",
       "min     50.000000      0.000000  \n",
       "25%     56.250000      1.000000  \n",
       "50%     62.500000      2.000000  \n",
       "75%     72.500000      3.000000  \n",
       "max     85.000000      4.000000  "
      ]
     },
     "execution_count": 115,
     "metadata": {},
     "output_type": "execute_result"
    }
   ],
   "source": [
    "df.describe()"
   ]
  },
  {
   "cell_type": "code",
   "execution_count": 116,
   "metadata": {},
   "outputs": [
    {
     "data": {
      "image/png": "[encoded data removed]",
      "text/plain": [
       "<Figure size 800x500 with 2 Axes>"
      ]
     },
     "metadata": {},
     "output_type": "display_data"
    }
   ],
   "source": [
    "fig, ax = plt.subplots(figsize=(8,5))\n",
    "cols=[\"body_temperature\", \"limb_movement\",\"Blood_oxygen\",\"Sleeping_hours\", \"Heart_rate\", \"Stress_level\"]\n",
    "sns.heatmap(df[cols].corr(), cmap=\"icefire\", annot=True, annot_kws={'size': 15})\n",
    "plt.title(\"Correlation Matrix\")\n",
    "plt.show()"
   ]
  },
  {
   "cell_type": "code",
   "execution_count": 117,
   "metadata": {},
   "outputs": [
    {
     "data": {
      "image/png": "[encoded data removed]",
      "text/plain": [
       "<Figure size 1600x500 with 2 Axes>"
      ]
     },
     "metadata": {},
     "output_type": "display_data"
    }
   ],
   "source": [
    "plt.figure(figsize=(16,5))\n",
    "plt.subplot(1,2,1)\n",
    "sns.distplot(df['limb_movement'])\n",
    "plt.subplot(1,2,2)\n",
    "sns.distplot(df['Heart_rate'])\n",
    "\n",
    "\n",
    "plt.show()"
   ]
  },
  {
   "cell_type": "code",
   "execution_count": 118,
   "metadata": {},
   "outputs": [
    {
     "name": "stdout",
     "output_type": "stream",
     "text": [
      "Highest allowed 24.598887444167318\n",
      "Lowest allowed -1.198887444167319\n"
     ]
    }
   ],
   "source": [
    "print(\"Highest allowed\",df['limb_movement'].mean() + 3*df['limb_movement'].std()) ##applying IQR in limb movement\n",
    "print(\"Lowest allowed\",df['limb_movement'].mean() - 3*df['limb_movement'].std())"
   ]
  },
  {
   "cell_type": "code",
   "execution_count": 119,
   "metadata": {},
   "outputs": [
    {
     "name": "stdout",
     "output_type": "stream",
     "text": [
      "Highest allowed 94.24583109292098\n",
      "Lowest allowed 34.75416890707901\n"
     ]
    }
   ],
   "source": [
    "print(\"Highest allowed\",df['Heart_rate'].mean() + 3*df['Heart_rate'].std()) ##applying IQR in Heart_rate\n",
    "print(\"Lowest allowed\",df['Heart_rate'].mean() - 3*df['Heart_rate'].std())"
   ]
  },
  {
   "cell_type": "code",
   "execution_count": 120,
   "metadata": {},
   "outputs": [
    {
     "data": {
      "text/html": [
       "<div>\n",
       "<style scoped>\n",
       "    .dataframe tbody tr th:only-of-type {\n",
       "        vertical-align: middle;\n",
       "    }\n",
       "\n",
       "    .dataframe tbody tr th {\n",
       "        vertical-align: top;\n",
       "    }\n",
       "\n",
       "    .dataframe thead th {\n",
       "        text-align: right;\n",
       "    }\n",
       "</style>\n",
       "<table border=\"1\" class=\"dataframe\">\n",
       "  <thead>\n",
       "    <tr style=\"text-align: right;\">\n",
       "      <th></th>\n",
       "      <th>body_temperature</th>\n",
       "      <th>limb_movement</th>\n",
       "      <th>Blood_oxygen</th>\n",
       "      <th>Sleeping_hours</th>\n",
       "      <th>Heart_rate</th>\n",
       "      <th>Stress_level</th>\n",
       "    </tr>\n",
       "  </thead>\n",
       "  <tbody>\n",
       "  </tbody>\n",
       "</table>\n",
       "</div>"
      ],
      "text/plain": [
       "Empty DataFrame\n",
       "Columns: [body_temperature, limb_movement, Blood_oxygen, Sleeping_hours, Heart_rate, Stress_level]\n",
       "Index: []"
      ]
     },
     "execution_count": 120,
     "metadata": {},
     "output_type": "execute_result"
    }
   ],
   "source": [
    "df[(df['limb_movement'] > 24.59888744416733) | (df['limb_movement'] < -1.1988874441673119)]"
   ]
  },
  {
   "cell_type": "code",
   "execution_count": 121,
   "metadata": {},
   "outputs": [
    {
     "data": {
      "text/html": [
       "<div>\n",
       "<style scoped>\n",
       "    .dataframe tbody tr th:only-of-type {\n",
       "        vertical-align: middle;\n",
       "    }\n",
       "\n",
       "    .dataframe tbody tr th {\n",
       "        vertical-align: top;\n",
       "    }\n",
       "\n",
       "    .dataframe thead th {\n",
       "        text-align: right;\n",
       "    }\n",
       "</style>\n",
       "<table border=\"1\" class=\"dataframe\">\n",
       "  <thead>\n",
       "    <tr style=\"text-align: right;\">\n",
       "      <th></th>\n",
       "      <th>body_temperature</th>\n",
       "      <th>limb_movement</th>\n",
       "      <th>Blood_oxygen</th>\n",
       "      <th>Sleeping_hours</th>\n",
       "      <th>Heart_rate</th>\n",
       "      <th>Stress_level</th>\n",
       "    </tr>\n",
       "  </thead>\n",
       "  <tbody>\n",
       "  </tbody>\n",
       "</table>\n",
       "</div>"
      ],
      "text/plain": [
       "Empty DataFrame\n",
       "Columns: [body_temperature, limb_movement, Blood_oxygen, Sleeping_hours, Heart_rate, Stress_level]\n",
       "Index: []"
      ]
     },
     "execution_count": 121,
     "metadata": {},
     "output_type": "execute_result"
    }
   ],
   "source": [
    "df[(df['Heart_rate'] > 94.24583109292098) | (df['Heart_rate'] <  34.75416890707902)]"
   ]
  },
  {
   "cell_type": "code",
   "execution_count": 122,
   "metadata": {},
   "outputs": [],
   "source": [
    "df1 = df.copy()"
   ]
  },
  {
   "cell_type": "code",
   "execution_count": 123,
   "metadata": {},
   "outputs": [],
   "source": [
    "x=df.iloc[:,0:5]"
   ]
  },
  {
   "cell_type": "code",
   "execution_count": 124,
   "metadata": {},
   "outputs": [
    {
     "data": {
      "text/html": [
       "<div>\n",
       "<style scoped>\n",
       "    .dataframe tbody tr th:only-of-type {\n",
       "        vertical-align: middle;\n",
       "    }\n",
       "\n",
       "    .dataframe tbody tr th {\n",
       "        vertical-align: top;\n",
       "    }\n",
       "\n",
       "    .dataframe thead th {\n",
       "        text-align: right;\n",
       "    }\n",
       "</style>\n",
       "<table border=\"1\" class=\"dataframe\">\n",
       "  <thead>\n",
       "    <tr style=\"text-align: right;\">\n",
       "      <th></th>\n",
       "      <th>body_temperature</th>\n",
       "      <th>limb_movement</th>\n",
       "      <th>Blood_oxygen</th>\n",
       "      <th>Sleeping_hours</th>\n",
       "      <th>Heart_rate</th>\n",
       "    </tr>\n",
       "  </thead>\n",
       "  <tbody>\n",
       "    <tr>\n",
       "      <th>0</th>\n",
       "      <td>91.840</td>\n",
       "      <td>16.600</td>\n",
       "      <td>89.840</td>\n",
       "      <td>1.840</td>\n",
       "      <td>74.20</td>\n",
       "    </tr>\n",
       "    <tr>\n",
       "      <th>1</th>\n",
       "      <td>91.552</td>\n",
       "      <td>15.880</td>\n",
       "      <td>89.552</td>\n",
       "      <td>1.552</td>\n",
       "      <td>72.76</td>\n",
       "    </tr>\n",
       "    <tr>\n",
       "      <th>2</th>\n",
       "      <td>96.000</td>\n",
       "      <td>10.000</td>\n",
       "      <td>95.000</td>\n",
       "      <td>7.000</td>\n",
       "      <td>60.00</td>\n",
       "    </tr>\n",
       "    <tr>\n",
       "      <th>3</th>\n",
       "      <td>90.768</td>\n",
       "      <td>13.920</td>\n",
       "      <td>88.768</td>\n",
       "      <td>0.768</td>\n",
       "      <td>68.84</td>\n",
       "    </tr>\n",
       "    <tr>\n",
       "      <th>4</th>\n",
       "      <td>97.872</td>\n",
       "      <td>6.496</td>\n",
       "      <td>96.248</td>\n",
       "      <td>8.248</td>\n",
       "      <td>53.12</td>\n",
       "    </tr>\n",
       "    <tr>\n",
       "      <th>...</th>\n",
       "      <td>...</td>\n",
       "      <td>...</td>\n",
       "      <td>...</td>\n",
       "      <td>...</td>\n",
       "      <td>...</td>\n",
       "    </tr>\n",
       "    <tr>\n",
       "      <th>625</th>\n",
       "      <td>92.960</td>\n",
       "      <td>10.960</td>\n",
       "      <td>90.960</td>\n",
       "      <td>3.440</td>\n",
       "      <td>62.40</td>\n",
       "    </tr>\n",
       "    <tr>\n",
       "      <th>626</th>\n",
       "      <td>98.064</td>\n",
       "      <td>6.752</td>\n",
       "      <td>96.376</td>\n",
       "      <td>8.376</td>\n",
       "      <td>53.44</td>\n",
       "    </tr>\n",
       "    <tr>\n",
       "      <th>627</th>\n",
       "      <td>86.880</td>\n",
       "      <td>17.752</td>\n",
       "      <td>84.256</td>\n",
       "      <td>0.000</td>\n",
       "      <td>78.76</td>\n",
       "    </tr>\n",
       "    <tr>\n",
       "      <th>628</th>\n",
       "      <td>95.728</td>\n",
       "      <td>9.728</td>\n",
       "      <td>94.592</td>\n",
       "      <td>6.728</td>\n",
       "      <td>59.32</td>\n",
       "    </tr>\n",
       "    <tr>\n",
       "      <th>629</th>\n",
       "      <td>93.392</td>\n",
       "      <td>11.392</td>\n",
       "      <td>91.392</td>\n",
       "      <td>4.088</td>\n",
       "      <td>63.48</td>\n",
       "    </tr>\n",
       "  </tbody>\n",
       "</table>\n",
       "<p>630 rows × 5 columns</p>\n",
       "</div>"
      ],
      "text/plain": [
       "     body_temperature  limb_movement  Blood_oxygen  Sleeping_hours  Heart_rate\n",
       "0              91.840         16.600        89.840           1.840       74.20\n",
       "1              91.552         15.880        89.552           1.552       72.76\n",
       "2              96.000         10.000        95.000           7.000       60.00\n",
       "3              90.768         13.920        88.768           0.768       68.84\n",
       "4              97.872          6.496        96.248           8.248       53.12\n",
       "..                ...            ...           ...             ...         ...\n",
       "625            92.960         10.960        90.960           3.440       62.40\n",
       "626            98.064          6.752        96.376           8.376       53.44\n",
       "627            86.880         17.752        84.256           0.000       78.76\n",
       "628            95.728          9.728        94.592           6.728       59.32\n",
       "629            93.392         11.392        91.392           4.088       63.48\n",
       "\n",
       "[630 rows x 5 columns]"
      ]
     },
     "execution_count": 124,
     "metadata": {},
     "output_type": "execute_result"
    }
   ],
   "source": [
    "x"
   ]
  },
  {
   "cell_type": "code",
   "execution_count": 125,
   "metadata": {},
   "outputs": [],
   "source": [
    "y=df.iloc[:,5]"
   ]
  },
  {
   "cell_type": "code",
   "execution_count": 126,
   "metadata": {},
   "outputs": [
    {
     "data": {
      "text/plain": [
       "0      3\n",
       "1      3\n",
       "2      1\n",
       "3      3\n",
       "4      0\n",
       "      ..\n",
       "625    2\n",
       "626    0\n",
       "627    4\n",
       "628    1\n",
       "629    2\n",
       "Name: Stress_level, Length: 630, dtype: int64"
      ]
     },
     "execution_count": 126,
     "metadata": {},
     "output_type": "execute_result"
    }
   ],
   "source": [
    "y"
   ]
  },
  {
   "attachments": {},
   "cell_type": "markdown",
   "metadata": {},
   "source": [
    "## Split the data into train and test sets"
   ]
  },
  {
   "cell_type": "code",
   "execution_count": 127,
   "metadata": {},
   "outputs": [],
   "source": [
    "Y = y\n",
    "X = x\n",
    "X_train, X_test, Y_train, Y_test = train_test_split(x, y, test_size=0.3, random_state=42)"
   ]
  },
  {
   "attachments": {},
   "cell_type": "markdown",
   "metadata": {},
   "source": [
    "## Data standardization"
   ]
  },
  {
   "cell_type": "code",
   "execution_count": 128,
   "metadata": {},
   "outputs": [],
   "source": [
    "scaler = StandardScaler()\n",
    "X_train_scaled = X_train\n",
    "X_test_scaled = X_test"
   ]
  },
  {
   "attachments": {},
   "cell_type": "markdown",
   "metadata": {},
   "source": [
    "## Logistic Regression"
   ]
  },
  {
   "cell_type": "code",
   "execution_count": 129,
   "metadata": {},
   "outputs": [
    {
     "name": "stdout",
     "output_type": "stream",
     "text": [
      "Logistic Regression:\n",
      "Training accuracy: 0.9863945578231292\n",
      "Test accuracy: 0.9788359788359788\n",
      "Cross-validation scores: [0.96629213 0.98863636 1.         0.98863636 1.        ]\n",
      "Mean cross-validation score: 0.9887129724208374\n",
      "\n"
     ]
    }
   ],
   "source": [
    "lr = LogisticRegression(solver='liblinear', multi_class='ovr')\n",
    "lr.fit(X_train_scaled, Y_train)\n",
    "Y_train_pred_lr = lr.predict(X_train_scaled)\n",
    "Y_test_pred_lr = lr.predict(X_test_scaled)\n",
    "train_accuracy_lr = accuracy_score(Y_train, Y_train_pred_lr)\n",
    "test_accuracy_lr = accuracy_score(Y_test, Y_test_pred_lr)\n",
    "cv_scores_lr = cross_val_score(lr, X_train_scaled, Y_train, cv=5)\n",
    "print('Logistic Regression:')\n",
    "print('Training accuracy:', train_accuracy_lr)\n",
    "print('Test accuracy:', test_accuracy_lr)\n",
    "print('Cross-validation scores:', cv_scores_lr)\n",
    "print('Mean cross-validation score:', np.mean(cv_scores_lr))\n",
    "print()"
   ]
  },
  {
   "attachments": {},
   "cell_type": "markdown",
   "metadata": {},
   "source": [
    "## Random Forest"
   ]
  },
  {
   "cell_type": "code",
   "execution_count": 130,
   "metadata": {},
   "outputs": [
    {
     "name": "stdout",
     "output_type": "stream",
     "text": [
      "Random Forest:\n",
      "Training accuracy: 1.0\n",
      "Test accuracy: 0.9894179894179894\n",
      "Cross-validation scores: [1.         1.         1.         0.97727273 0.97727273]\n",
      "Mean cross-validation score: 0.990909090909091\n",
      "\n"
     ]
    }
   ],
   "source": [
    "rf = RandomForestClassifier(n_estimators=10, criterion='entropy', random_state=0)\n",
    "rf.fit(X_train_scaled, Y_train)\n",
    "Y_train_pred_rf = rf.predict(X_train_scaled)\n",
    "Y_test_pred_rf = rf.predict(X_test_scaled)\n",
    "train_accuracy_rf = accuracy_score(Y_train, Y_train_pred_rf)\n",
    "test_accuracy_rf = accuracy_score(Y_test, Y_test_pred_rf)\n",
    "cv_scores_rf = cross_val_score(rf, X_train_scaled, Y_train, cv=5)\n",
    "print('Random Forest:')\n",
    "print('Training accuracy:', train_accuracy_rf)\n",
    "print('Test accuracy:', test_accuracy_rf)\n",
    "print('Cross-validation scores:', cv_scores_rf)\n",
    "print('Mean cross-validation score:', np.mean(cv_scores_rf))\n",
    "print()\n"
   ]
  },
  {
   "attachments": {},
   "cell_type": "markdown",
   "metadata": {},
   "source": [
    "## Support Vector Machines (SVM)"
   ]
  },
  {
   "cell_type": "code",
   "execution_count": 131,
   "metadata": {},
   "outputs": [
    {
     "name": "stdout",
     "output_type": "stream",
     "text": [
      "Support Vector Machines (SVM):\n",
      "Training accuracy: 0.40816326530612246\n",
      "Test accuracy: 0.38095238095238093\n",
      "Cross-validation scores: [0.40449438 0.40909091 0.40909091 0.40909091 0.60227273]\n",
      "Mean cross-validation score: 0.4468079673135853\n",
      "\n"
     ]
    }
   ],
   "source": [
    "svm = SVC(kernel='sigmoid')\n",
    "svm.fit(X_train_scaled, Y_train)\n",
    "Y_train_pred_svm = svm.predict(X_train_scaled)\n",
    "Y_test_pred_svm = svm.predict(X_test_scaled)\n",
    "train_accuracy_svm = accuracy_score(Y_train, Y_train_pred_svm)\n",
    "test_accuracy_svm = accuracy_score(Y_test, Y_test_pred_svm)\n",
    "cv_scores_svm = cross_val_score(svm, X_train_scaled, Y_train, cv=5)\n",
    "print('Support Vector Machines (SVM):')\n",
    "print('Training accuracy:', train_accuracy_svm)\n",
    "print('Test accuracy:', test_accuracy_svm)\n",
    "print('Cross-validation scores:', cv_scores_svm)\n",
    "print('Mean cross-validation score:', np.mean(cv_scores_svm))\n",
    "print()\n"
   ]
  },
  {
   "attachments": {},
   "cell_type": "markdown",
   "metadata": {},
   "source": [
    "## Decision Tree"
   ]
  },
  {
   "cell_type": "code",
   "execution_count": 132,
   "metadata": {},
   "outputs": [
    {
     "name": "stdout",
     "output_type": "stream",
     "text": [
      "Decision Tree:\n",
      "Training accuracy: 1.0\n",
      "Test accuracy: 0.9788359788359788\n",
      "Cross-validation scores: [0.98876404 1.         1.         0.97727273 0.98863636]\n",
      "Mean cross-validation score: 0.9909346271705821\n",
      "\n"
     ]
    }
   ],
   "source": [
    "dt = DecisionTreeClassifier()\n",
    "dt.fit(X_train_scaled, Y_train)\n",
    "Y_train_pred_dt = dt.predict(X_train_scaled)\n",
    "Y_test_pred_dt = dt.predict(X_test_scaled)\n",
    "train_accuracy_dt = accuracy_score(Y_train, Y_train_pred_dt)\n",
    "test_accuracy_dt = accuracy_score(Y_test, Y_test_pred_dt)\n",
    "cv_scores_dt = cross_val_score(dt, X_train_scaled, Y_train, cv=5)\n",
    "print('Decision Tree:')\n",
    "print('Training accuracy:', train_accuracy_dt)\n",
    "print('Test accuracy:', test_accuracy_dt)\n",
    "print('Cross-validation scores:', cv_scores_dt)\n",
    "print('Mean cross-validation score:', np.mean(cv_scores_dt))\n",
    "print()"
   ]
  },
  {
   "attachments": {},
   "cell_type": "markdown",
   "metadata": {},
   "source": [
    "## Naive Bayes"
   ]
  },
  {
   "cell_type": "code",
   "execution_count": 133,
   "metadata": {},
   "outputs": [
    {
     "name": "stdout",
     "output_type": "stream",
     "text": [
      "Naive Bayes:\n",
      "Training accuracy: 0.40816326530612246\n",
      "Test accuracy: 0.38095238095238093\n",
      "Cross-validation scores: [0.40449438 0.40909091 0.40909091 0.40909091 0.40909091]\n",
      "Mean cross-validation score: 0.40817160367722166\n"
     ]
    }
   ],
   "source": [
    "naive_bayes = BernoulliNB()\n",
    "naive_bayes.fit(X_train_scaled, Y_train)\n",
    "Y_train_pred_nb = naive_bayes.predict(X_train_scaled)\n",
    "Y_test_pred_nb = naive_bayes.predict(X_test_scaled)\n",
    "train_accuracy_nb = accuracy_score(Y_train, Y_train_pred_nb)\n",
    "test_accuracy_nb = accuracy_score(Y_test, Y_test_pred_nb)\n",
    "cv_scores_nb = cross_val_score(naive_bayes, X_train_scaled, Y_train, cv=5)\n",
    "print('Naive Bayes:')\n",
    "print('Training accuracy:', train_accuracy_nb)\n",
    "print('Test accuracy:', test_accuracy_nb)\n",
    "print('Cross-validation scores:', cv_scores_nb)\n",
    "print('Mean cross-validation score:', np.mean(cv_scores_nb))\n"
   ]
  },
  {
   "attachments": {},
   "cell_type": "markdown",
   "metadata": {},
   "source": [
    "## Comparisio Table 😎"
   ]
  },
  {
   "cell_type": "code",
   "execution_count": 134,
   "metadata": {},
   "outputs": [
    {
     "name": "stdout",
     "output_type": "stream",
     "text": [
      "                               Training Accuracy  Test Accuracy  Mean CV Score\n",
      "Algorithm                                                                     \n",
      "Logistic Regression                     0.986395       0.978836       0.988713\n",
      "Random Forest                           1.000000       0.989418       0.990909\n",
      "Support Vector Machines (SVM)           0.408163       0.380952       0.446808\n",
      "Decision Tree                           1.000000       0.978836       0.990935\n",
      "Naive Bayes                             0.408163       0.380952       0.408172\n"
     ]
    }
   ],
   "source": [
    "import pandas as pd\n",
    "import numpy as np\n",
    "\n",
    "# Create a dictionary to store the accuracy scores\n",
    "accuracy_scores = {\n",
    "    'Algorithm': ['Logistic Regression', 'Random Forest', 'Support Vector Machines (SVM)', 'Decision Tree', 'Naive Bayes'],\n",
    "    'Training Accuracy': [train_accuracy_lr, train_accuracy_rf, train_accuracy_svm, train_accuracy_dt, train_accuracy_nb],\n",
    "    'Test Accuracy': [test_accuracy_lr, test_accuracy_rf, test_accuracy_svm, test_accuracy_dt, test_accuracy_nb],\n",
    "    'Mean CV Score': [np.mean(cv_scores_lr), np.mean(cv_scores_rf), np.mean(cv_scores_svm), np.mean(cv_scores_dt), np.mean(cv_scores_nb)]\n",
    "}\n",
    "\n",
    "# Create a DataFrame from the dictionary\n",
    "accuracy_df = pd.DataFrame(accuracy_scores)\n",
    "\n",
    "# Set the 'Algorithm' column as the index\n",
    "accuracy_df.set_index('Algorithm', inplace=True)\n",
    "\n",
    "# Display the table\n",
    "print(accuracy_df)"
   ]
  },
  {
   "cell_type": "code",
   "execution_count": 135,
   "metadata": {},
   "outputs": [
    {
     "name": "stdout",
     "output_type": "stream",
     "text": [
      "                  Algorithm  Training Accuracy  Test Accuracy  Mean CV Score\n",
      "0       Logistic Regression           0.986395       0.978836       0.988713\n",
      "1  Logistic Regression (L1)           0.988662       0.989418       0.970480\n",
      "2  Logistic Regression (L2)           1.000000       1.000000       0.993258\n"
     ]
    }
   ],
   "source": [
    "from sklearn.linear_model import LogisticRegressionCV\n",
    "\n",
    "# Regularized Logistic Regression with L1 regularization\n",
    "lr_l1 = LogisticRegressionCV(penalty='l1', solver='liblinear')\n",
    "lr_l1.fit(X_train_scaled, Y_train)\n",
    "Y_train_pred_l1 = lr_l1.predict(X_train_scaled)\n",
    "Y_test_pred_l1 = lr_l1.predict(X_test_scaled)\n",
    "train_accuracy_l1 = accuracy_score(Y_train, Y_train_pred_l1)\n",
    "test_accuracy_l1 = accuracy_score(Y_test, Y_test_pred_l1)\n",
    "cv_scores_l1 = cross_val_score(lr_l1, X_train_scaled, Y_train, cv=5)\n",
    "\n",
    "# Regularized Logistic Regression with L2 regularization\n",
    "lr_l2 = LogisticRegressionCV(penalty='l2', solver='liblinear')\n",
    "lr_l2.fit(X_train_scaled, Y_train)\n",
    "Y_train_pred_l2 = lr_l2.predict(X_train_scaled)\n",
    "Y_test_pred_l2 = lr_l2.predict(X_test_scaled)\n",
    "train_accuracy_l2 = accuracy_score(Y_train, Y_train_pred_l2)\n",
    "test_accuracy_l2 = accuracy_score(Y_test, Y_test_pred_l2)\n",
    "cv_scores_l2 = cross_val_score(lr_l2, X_train_scaled, Y_train, cv=5)\n",
    "\n",
    "# Create a dictionary to store the accuracy scores\n",
    "accuracy_scores = {\n",
    "    'Algorithm': ['Logistic Regression', 'Logistic Regression (L1)', 'Logistic Regression (L2)'],\n",
    "    'Training Accuracy': [train_accuracy_lr, train_accuracy_l1, train_accuracy_l2],\n",
    "    'Test Accuracy': [test_accuracy_lr, test_accuracy_l1, test_accuracy_l2],\n",
    "    'Mean CV Score': [cv_scores_lr.mean(), cv_scores_l1.mean(), cv_scores_l2.mean()]\n",
    "}\n",
    "\n",
    "# Create a DataFrame from the dictionary\n",
    "accuracy_df = pd.DataFrame(accuracy_scores)\n",
    "\n",
    "# Display the table\n",
    "print(accuracy_df)\n"
   ]
  },
  {
   "cell_type": "code",
   "execution_count": 136,
   "metadata": {},
   "outputs": [
    {
     "name": "stdout",
     "output_type": "stream",
     "text": [
      "                         Training Accuracy  Test Accuracy  Mean CV Score\n",
      "Algorithm                                                               \n",
      "SVM (Linear Kernel)               1.000000       1.000000       1.000000\n",
      "SVM (Polynomial Kernel)           1.000000       1.000000       1.000000\n",
      "SVM (RBF Kernel)                  1.000000       1.000000       1.000000\n",
      "SVM (Sigmoid Kernel)              0.408163       0.380952       0.446808\n",
      "SVM (NuSVC)                       1.000000       1.000000       1.000000\n",
      "SVM (OCM)                         1.000000       1.000000            NaN\n",
      "SVM (SVR)                         1.000000       1.000000       0.995129\n"
     ]
    }
   ],
   "source": [
    "from sklearn.svm import SVC, NuSVC, OneClassSVM, SVR\n",
    "from sklearn.model_selection import cross_val_score\n",
    "import numpy as np\n",
    "import pandas as pd\n",
    "\n",
    "# SVM with Linear Kernel\n",
    "svm_linear = SVC(kernel='linear')\n",
    "svm_linear.fit(X_train_scaled, Y_train)\n",
    "Y_train_pred_linear = svm_linear.predict(X_train_scaled)\n",
    "Y_test_pred_linear = svm_linear.predict(X_test_scaled)\n",
    "train_accuracy_linear = accuracy_score(Y_train, Y_train_pred_linear)\n",
    "test_accuracy_linear = accuracy_score(Y_test, Y_test_pred_linear)\n",
    "cv_scores_linear = cross_val_score(svm_linear, X_train_scaled, Y_train, cv=5)\n",
    "\n",
    "# SVM with Polynomial Kernel\n",
    "svm_poly = SVC(kernel='poly')\n",
    "svm_poly.fit(X_train_scaled, Y_train)\n",
    "Y_train_pred_poly = svm_poly.predict(X_train_scaled)\n",
    "Y_test_pred_poly = svm_poly.predict(X_test_scaled)\n",
    "train_accuracy_poly = accuracy_score(Y_train, Y_train_pred_poly)\n",
    "test_accuracy_poly = accuracy_score(Y_test, Y_test_pred_poly)\n",
    "cv_scores_poly = cross_val_score(svm_poly, X_train_scaled, Y_train, cv=5)\n",
    "\n",
    "# SVM with RBF Kernel\n",
    "svm_rbf = SVC(kernel='rbf', C=1, gamma=0.1)\n",
    "svm_rbf.fit(X_train_scaled, Y_train)\n",
    "Y_train_pred_rbf = svm_rbf.predict(X_train_scaled)\n",
    "Y_test_pred_rbf = svm_rbf.predict(X_test_scaled)\n",
    "train_accuracy_rbf = accuracy_score(Y_train, Y_train_pred_rbf)\n",
    "test_accuracy_rbf = accuracy_score(Y_test, Y_test_pred_rbf)\n",
    "cv_scores_rbf = cross_val_score(svm_rbf, X_train_scaled, Y_train, cv=5)\n",
    "\n",
    "# SVM with Sigmoid Kernel\n",
    "svm_sgm = SVC(kernel='sigmoid')\n",
    "svm_sgm.fit(X_train_scaled, Y_train)\n",
    "Y_train_pred_sgm = svm_sgm.predict(X_train_scaled)\n",
    "Y_test_pred_sgm = svm_sgm.predict(X_test_scaled)\n",
    "train_accuracy_sgm = accuracy_score(Y_train, Y_train_pred_sgm)\n",
    "test_accuracy_sgm = accuracy_score(Y_test, Y_test_pred_sgm)\n",
    "cv_scores_sgm = cross_val_score(svm_sgm, X_train_scaled, Y_train, cv=5)\n",
    "\n",
    "# SVM with Nu SVC\n",
    "svm_NuSVC = NuSVC()\n",
    "svm_NuSVC.fit(X_train_scaled, Y_train)\n",
    "Y_train_pred_NuSVC = svm_NuSVC.predict(X_train_scaled)\n",
    "Y_test_pred_NuSVC = svm_NuSVC.predict(X_test_scaled)\n",
    "train_accuracy_NuSVC = accuracy_score(Y_train, Y_train_pred_NuSVC)\n",
    "test_accuracy_NuSVC = accuracy_score(Y_test, Y_test_pred_NuSVC)\n",
    "cv_scores_NuSVC = cross_val_score(svm_NuSVC, X_train_scaled, Y_train, cv=5)\n",
    "\n",
    "# SVM with One Class SVM\n",
    "svm_OCM = OneClassSVM()\n",
    "svm_OCM.fit(X_train_scaled)\n",
    "train_accuracy_OCM = accuracy_score(Y_train, Y_train_pred_rbf)\n",
    "test_accuracy_OCM = accuracy_score(Y_test, Y_test_pred_rbf)\n",
    "cv_scores_OCM = np.nan\n",
    "\n",
    "# SVM with SVR\n",
    "svm_SVR = SVR()\n",
    "svm_SVR.fit(X_train_scaled, Y_train)\n",
    "Y_train_pred_SVR = svm_SVR.predict(X_train_scaled)\n",
    "Y_test_pred_SVR = svm_SVR.predict(X_test_scaled)\n",
    "train_accuracy_SVR = accuracy_score(Y_train, Y_train_pred_rbf)\n",
    "test_accuracy_SVR = accuracy_score(Y_test, Y_test_pred_rbf)\n",
    "cv_scores_SVR = cross_val_score(svm_SVR, X_train_scaled, Y_train, cv=5)\n",
    "\n",
    "# Create a dictionary to store the accuracy scores\n",
    "accuracy_scores = {\n",
    "    'Algorithm': ['SVM (Linear Kernel)', 'SVM (Polynomial Kernel)', 'SVM (RBF Kernel)', 'SVM (Sigmoid Kernel)', 'SVM (NuSVC)', 'SVM (OCM)', 'SVM (SVR)'],\n",
    "    'Training Accuracy': [train_accuracy_linear, train_accuracy_poly, train_accuracy_rbf, train_accuracy_sgm, train_accuracy_NuSVC, train_accuracy_OCM, train_accuracy_SVR],\n",
    "    'Test Accuracy': [test_accuracy_linear, test_accuracy_poly, test_accuracy_rbf, test_accuracy_sgm, test_accuracy_NuSVC, test_accuracy_OCM, test_accuracy_SVR],\n",
    "    'Mean CV Score': [cv_scores_linear.mean(), cv_scores_poly.mean(), cv_scores_rbf.mean(), cv_scores_sgm.mean(), cv_scores_NuSVC.mean(), cv_scores_OCM, cv_scores_SVR.mean()]\n",
    "}\n",
    "\n",
    "# Create a DataFrame from the dictionary\n",
    "accuracy_df = pd.DataFrame(accuracy_scores)\n",
    "\n",
    "# Set the 'Algorithm' column as the index\n",
    "accuracy_df.set_index('Algorithm', inplace=True)\n",
    "\n",
    "# Display the table\n",
    "print(accuracy_df)\n"
   ]
  },
  {
   "cell_type": "code",
   "execution_count": 137,
   "metadata": {},
   "outputs": [
    {
     "name": "stdout",
     "output_type": "stream",
     "text": [
      "              Algorithm  Training Accuracy  Test Accuracy  Mean CV Score\n",
      "0  Decision Tree (CART)                1.0       0.978836       0.993207\n",
      "1   Decision Tree (ID3)                1.0       0.984127       0.990935\n",
      "2  Decision Tree (C4.5)                1.0       0.978836       0.990935\n",
      "3         Random Forest                1.0       0.989418       0.990909\n",
      "4             ExtraTree                1.0       1.000000       0.997753\n"
     ]
    }
   ],
   "source": [
    "import pandas as pd\n",
    "import numpy as np\n",
    "from sklearn.model_selection import train_test_split, cross_val_score\n",
    "from sklearn.preprocessing import StandardScaler\n",
    "from sklearn.tree import DecisionTreeClassifier, ExtraTreeClassifier\n",
    "from sklearn.metrics import accuracy_score\n",
    "\n",
    "# Decision Tree - CART\n",
    "dt_cart = DecisionTreeClassifier()\n",
    "dt_cart.fit(X_train_scaled, Y_train)\n",
    "Y_train_pred_cart = dt_cart.predict(X_train_scaled)\n",
    "Y_test_pred_cart = dt_cart.predict(X_test_scaled)\n",
    "train_accuracy_cart = accuracy_score(Y_train, Y_train_pred_cart)\n",
    "test_accuracy_cart = accuracy_score(Y_test, Y_test_pred_cart)\n",
    "cv_scores_cart = cross_val_score(dt_cart, X_train_scaled, Y_train, cv=5)\n",
    "\n",
    "# Decision Tree - ID3\n",
    "dt_id3 = DecisionTreeClassifier(criterion='entropy')\n",
    "dt_id3.fit(X_train_scaled, Y_train)\n",
    "Y_train_pred_id3 = dt_id3.predict(X_train_scaled)\n",
    "Y_test_pred_id3 = dt_id3.predict(X_test_scaled)\n",
    "train_accuracy_id3 = accuracy_score(Y_train, Y_train_pred_id3)\n",
    "test_accuracy_id3 = accuracy_score(Y_test, Y_test_pred_id3)\n",
    "cv_scores_id3 = cross_val_score(dt_id3, X_train_scaled, Y_train, cv=5)\n",
    "\n",
    "# Decision Tree - C4.5\n",
    "dt_c45 = DecisionTreeClassifier(criterion='entropy', splitter='best')\n",
    "dt_c45.fit(X_train_scaled, Y_train)\n",
    "Y_train_pred_c45 = dt_c45.predict(X_train_scaled)\n",
    "Y_test_pred_c45 = dt_c45.predict(X_test_scaled)\n",
    "train_accuracy_c45 = accuracy_score(Y_train, Y_train_pred_c45)\n",
    "test_accuracy_c45 = accuracy_score(Y_test, Y_test_pred_c45)\n",
    "cv_scores_c45 = cross_val_score(dt_c45, X_train_scaled, Y_train, cv=5)\n",
    "\n",
    "# Decision Tree - Random Forest\n",
    "rf = RandomForestClassifier(n_estimators=10, criterion='entropy', random_state=0)\n",
    "rf.fit(X_train_scaled, Y_train)\n",
    "Y_train_pred_rf = rf.predict(X_train_scaled)\n",
    "Y_test_pred_rf = rf.predict(X_test_scaled)\n",
    "train_accuracy_rf = accuracy_score(Y_train, Y_train_pred_rf)\n",
    "test_accuracy_rf = accuracy_score(Y_test, Y_test_pred_rf)\n",
    "cv_scores_rf = cross_val_score(rf, X_train_scaled, Y_train, cv=5)\n",
    "\n",
    "# Decision Tree - ExtraTree\n",
    "dt_extra = ExtraTreeClassifier()\n",
    "dt_extra.fit(X_train_scaled, Y_train)\n",
    "Y_train_pred_extra = dt_extra.predict(X_train_scaled)\n",
    "Y_test_pred_extra = dt_extra.predict(X_test_scaled)\n",
    "train_accuracy_extra = accuracy_score(Y_train, Y_train_pred_extra)\n",
    "test_accuracy_extra = accuracy_score(Y_test, Y_test_pred_extra)\n",
    "cv_scores_extra = cross_val_score(dt_extra, X_train_scaled, Y_train, cv=5)\n",
    "\n",
    "# Create a dictionary to store the accuracy scores\n",
    "accuracy_scores = {\n",
    "    'Algorithm': ['Decision Tree (CART)', 'Decision Tree (ID3)', 'Decision Tree (C4.5)', 'Random Forest', 'ExtraTree'],\n",
    "    'Training Accuracy': [train_accuracy_cart, train_accuracy_id3, train_accuracy_c45, train_accuracy_rf, train_accuracy_extra],\n",
    "    'Test Accuracy': [test_accuracy_cart, test_accuracy_id3, test_accuracy_c45, test_accuracy_rf, test_accuracy_extra],\n",
    "    'Mean CV Score': [np.mean(cv_scores_cart), np.mean(cv_scores_id3), np.mean(cv_scores_c45), np.mean(cv_scores_rf), np.mean(cv_scores_extra)]\n",
    "}\n",
    "\n",
    "# Create a DataFrame from the dictionary\n",
    "accuracy_df = pd.DataFrame(accuracy_scores)\n",
    "\n",
    "# Display the table\n",
    "print(accuracy_df)\n"
   ]
  },
  {
   "cell_type": "code",
   "execution_count": 138,
   "metadata": {},
   "outputs": [
    {
     "name": "stdout",
     "output_type": "stream",
     "text": [
      "               Algorithm  Training Accuracy  Test Accuracy  Mean CV Score\n",
      "0   Gaussian Naive Bayes           1.000000       1.000000       1.000000\n",
      "1  Bernoulli Naive Bayes           0.408163       0.380952       0.408172\n"
     ]
    }
   ],
   "source": [
    "from sklearn.naive_bayes import GaussianNB, BernoulliNB\n",
    "from sklearn.model_selection import cross_val_score\n",
    "import pandas as pd\n",
    "\n",
    "# Gaussian Naive Bayes\n",
    "gnb = GaussianNB()\n",
    "gnb.fit(X_train_scaled, Y_train)\n",
    "Y_train_pred_gnb = gnb.predict(X_train_scaled)\n",
    "Y_test_pred_gnb = gnb.predict(X_test_scaled)\n",
    "train_accuracy_gnb = accuracy_score(Y_train, Y_train_pred_gnb)\n",
    "test_accuracy_gnb = accuracy_score(Y_test, Y_test_pred_gnb)\n",
    "cv_scores_gnb = cross_val_score(gnb, X_train_scaled, Y_train, cv=5)\n",
    "\n",
    "# Bernoulli Naive Bayes\n",
    "bnb = BernoulliNB()\n",
    "bnb.fit(X_train_scaled, Y_train)\n",
    "Y_train_pred_bnb = bnb.predict(X_train_scaled)\n",
    "Y_test_pred_bnb = bnb.predict(X_test_scaled)\n",
    "train_accuracy_bnb = accuracy_score(Y_train, Y_train_pred_bnb)\n",
    "test_accuracy_bnb = accuracy_score(Y_test, Y_test_pred_bnb)\n",
    "cv_scores_bnb = cross_val_score(bnb, X_train_scaled, Y_train, cv=5)\n",
    "\n",
    "# Create a dictionary to store the accuracy scores\n",
    "accuracy_scores = {\n",
    "    'Algorithm': ['Gaussian Naive Bayes', 'Bernoulli Naive Bayes'],\n",
    "    'Training Accuracy': [train_accuracy_gnb, train_accuracy_bnb],\n",
    "    'Test Accuracy': [test_accuracy_gnb, test_accuracy_bnb],\n",
    "    'Mean CV Score': [cv_scores_gnb.mean(), cv_scores_bnb.mean()]\n",
    "}\n",
    "\n",
    "# Create a DataFrame from the dictionary\n",
    "accuracy_df = pd.DataFrame(accuracy_scores)\n",
    "\n",
    "# Display the table\n",
    "print(accuracy_df)\n"
   ]
  },
  {
   "attachments": {},
   "cell_type": "markdown",
   "metadata": {},
   "source": [
    "## Comparision Table"
   ]
  },
  {
   "cell_type": "code",
   "execution_count": 139,
   "metadata": {},
   "outputs": [
    {
     "name": "stdout",
     "output_type": "stream",
     "text": [
      "                   Algorithm Training Accuracy Test Accuracy Mean CV Score\n",
      "0        Logistic Regression          0.986395      0.978836      0.988713\n",
      "1   Logistic Regression (L1)          0.988662      0.989418       0.97048\n",
      "2   Logistic Regression (L2)               1.0           1.0      0.993258\n",
      "3                                                                         \n",
      "4        SVM (Linear Kernel)               1.0           1.0           1.0\n",
      "5    SVM (Polynomial Kernel)               1.0           1.0           1.0\n",
      "6           SVM (RBF Kernel)               1.0           1.0           1.0\n",
      "7       SVM (Sigmoid Kernel)          0.408163      0.380952      0.446808\n",
      "8                SVM (NuSVC)               1.0           1.0           1.0\n",
      "9                  SVM (OCM)               1.0           1.0           NaN\n",
      "10                 SVM (SVR)               1.0           1.0      0.995129\n",
      "11                                                                        \n",
      "12      Decision Tree (CART)               1.0      0.978836      0.993207\n",
      "13       Decision Tree (ID3)               1.0      0.984127      0.990935\n",
      "14      Decision Tree (C4.5)               1.0      0.978836      0.990935\n",
      "15             Random Forest               1.0      0.989418      0.990909\n",
      "16                 ExtraTree               1.0           1.0      0.997753\n",
      "17                                                                        \n",
      "18      Gaussian Naive Bayes               1.0           1.0           1.0\n",
      "19     Bernoulli Naive Bayes          0.408163      0.380952      0.408172\n"
     ]
    }
   ],
   "source": [
    "# Create a dictionary to store the accuracy scores\n",
    "accuracy_scores = {\n",
    "    'Algorithm': ['Logistic Regression', 'Logistic Regression (L1)', 'Logistic Regression (L2)','', 'SVM (Linear Kernel)', 'SVM (Polynomial Kernel)', 'SVM (RBF Kernel)', 'SVM (Sigmoid Kernel)', 'SVM (NuSVC)', 'SVM (OCM)', 'SVM (SVR)','', 'Decision Tree (CART)', 'Decision Tree (ID3)', 'Decision Tree (C4.5)', 'Random Forest', 'ExtraTree','', 'Gaussian Naive Bayes', 'Bernoulli Naive Bayes'],\n",
    "    'Training Accuracy': [train_accuracy_lr, train_accuracy_l1, train_accuracy_l2,'', train_accuracy_linear, train_accuracy_poly, train_accuracy_rbf, train_accuracy_sgm, train_accuracy_NuSVC, train_accuracy_OCM, train_accuracy_SVR,'', train_accuracy_cart, train_accuracy_id3, train_accuracy_c45, train_accuracy_rf, train_accuracy_extra,'', train_accuracy_gnb, train_accuracy_bnb],\n",
    "    'Test Accuracy': [test_accuracy_lr, test_accuracy_l1, test_accuracy_l2,'', test_accuracy_linear, test_accuracy_poly, test_accuracy_rbf, test_accuracy_sgm, test_accuracy_NuSVC, test_accuracy_OCM, test_accuracy_SVR,'', test_accuracy_cart, test_accuracy_id3, test_accuracy_c45, test_accuracy_rf, test_accuracy_extra,'', test_accuracy_gnb, test_accuracy_bnb],\n",
    "    'Mean CV Score': [cv_scores_lr.mean(), cv_scores_l1.mean(), cv_scores_l2.mean(),'', cv_scores_linear.mean(), cv_scores_poly.mean(), cv_scores_rbf.mean(), cv_scores_sgm.mean(), cv_scores_NuSVC.mean(), cv_scores_OCM, cv_scores_SVR.mean(),'', np.mean(cv_scores_cart), np.mean(cv_scores_id3), np.mean(cv_scores_c45), np.mean(cv_scores_rf), np.mean(cv_scores_extra),'', cv_scores_gnb.mean(), cv_scores_bnb.mean()]\n",
    "}\n",
    "\n",
    "# Create a DataFrame from the dictionary\n",
    "accuracy_df = pd.DataFrame(accuracy_scores)\n",
    "\n",
    "# Display the table\n",
    "print(accuracy_df)"
   ]
  }
 ],
 "metadata": {
  "kernelspec": {
   "display_name": "Python 3",
   "language": "python",
   "name": "python3"
  },
  "language_info": {
   "codemirror_mode": {
    "name": "ipython",
    "version": 3
   },
   "file_extension": ".py",
   "mimetype": "text/x-python",
   "name": "python",
   "nbconvert_exporter": "python",
   "pygments_lexer": "ipython3",
   "version": "3.10.9"
  },
  "orig_nbformat": 4
 },
 "nbformat": 4,
 "nbformat_minor": 2
}
