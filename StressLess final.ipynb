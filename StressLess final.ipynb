{
 "cells": [
  {
   "cell_type": "code",
   "execution_count": 77,
   "id": "8d56059f",
   "metadata": {},
   "outputs": [],
   "source": [
    "import pandas as pd\n",
    "import numpy as np\n",
    "import matplotlib.pyplot as plt\n",
    "import seaborn as sns\n",
    "%matplotlib inline"
   ]
  },
  {
   "cell_type": "code",
   "execution_count": 78,
   "id": "83e6497d",
   "metadata": {},
   "outputs": [],
   "source": [
    "import warnings\n",
    "\n",
    "warnings.filterwarnings('ignore')"
   ]
  },
  {
   "cell_type": "code",
   "execution_count": 79,
   "id": "8637c8c7",
   "metadata": {},
   "outputs": [],
   "source": [
    "data = 'SaYoPillow.csv'\n",
    "\n",
    "df = pd.read_csv(data)"
   ]
  },
  {
   "cell_type": "code",
   "execution_count": 80,
   "id": "cd99515a",
   "metadata": {},
   "outputs": [
    {
     "data": {
      "text/plain": [
       "(630, 6)"
      ]
     },
     "execution_count": 80,
     "metadata": {},
     "output_type": "execute_result"
    }
   ],
   "source": [
    "df.shape"
   ]
  },
  {
   "cell_type": "code",
   "execution_count": 81,
   "id": "441c6c01",
   "metadata": {},
   "outputs": [
    {
     "data": {
      "text/html": [
       "<div>\n",
       "<style scoped>\n",
       "    .dataframe tbody tr th:only-of-type {\n",
       "        vertical-align: middle;\n",
       "    }\n",
       "\n",
       "    .dataframe tbody tr th {\n",
       "        vertical-align: top;\n",
       "    }\n",
       "\n",
       "    .dataframe thead th {\n",
       "        text-align: right;\n",
       "    }\n",
       "</style>\n",
       "<table border=\"1\" class=\"dataframe\">\n",
       "  <thead>\n",
       "    <tr style=\"text-align: right;\">\n",
       "      <th></th>\n",
       "      <th>body_temperature</th>\n",
       "      <th>limb_movement</th>\n",
       "      <th>Blood_oxygen</th>\n",
       "      <th>Sleeping_hours</th>\n",
       "      <th>Heart_rate</th>\n",
       "      <th>Stress_level</th>\n",
       "    </tr>\n",
       "  </thead>\n",
       "  <tbody>\n",
       "    <tr>\n",
       "      <th>0</th>\n",
       "      <td>91.840</td>\n",
       "      <td>16.600</td>\n",
       "      <td>89.840</td>\n",
       "      <td>1.840</td>\n",
       "      <td>74.20</td>\n",
       "      <td>3</td>\n",
       "    </tr>\n",
       "    <tr>\n",
       "      <th>1</th>\n",
       "      <td>91.552</td>\n",
       "      <td>15.880</td>\n",
       "      <td>89.552</td>\n",
       "      <td>1.552</td>\n",
       "      <td>72.76</td>\n",
       "      <td>3</td>\n",
       "    </tr>\n",
       "    <tr>\n",
       "      <th>2</th>\n",
       "      <td>96.000</td>\n",
       "      <td>10.000</td>\n",
       "      <td>95.000</td>\n",
       "      <td>7.000</td>\n",
       "      <td>60.00</td>\n",
       "      <td>1</td>\n",
       "    </tr>\n",
       "    <tr>\n",
       "      <th>3</th>\n",
       "      <td>90.768</td>\n",
       "      <td>13.920</td>\n",
       "      <td>88.768</td>\n",
       "      <td>0.768</td>\n",
       "      <td>68.84</td>\n",
       "      <td>3</td>\n",
       "    </tr>\n",
       "    <tr>\n",
       "      <th>4</th>\n",
       "      <td>97.872</td>\n",
       "      <td>6.496</td>\n",
       "      <td>96.248</td>\n",
       "      <td>8.248</td>\n",
       "      <td>53.12</td>\n",
       "      <td>0</td>\n",
       "    </tr>\n",
       "  </tbody>\n",
       "</table>\n",
       "</div>"
      ],
      "text/plain": [
       "   body_temperature  limb_movement  Blood_oxygen  Sleeping_hours  Heart_rate  \\\n",
       "0            91.840         16.600        89.840           1.840       74.20   \n",
       "1            91.552         15.880        89.552           1.552       72.76   \n",
       "2            96.000         10.000        95.000           7.000       60.00   \n",
       "3            90.768         13.920        88.768           0.768       68.84   \n",
       "4            97.872          6.496        96.248           8.248       53.12   \n",
       "\n",
       "   Stress_level  \n",
       "0             3  \n",
       "1             3  \n",
       "2             1  \n",
       "3             3  \n",
       "4             0  "
      ]
     },
     "execution_count": 81,
     "metadata": {},
     "output_type": "execute_result"
    }
   ],
   "source": [
    "df.head()"
   ]
  },
  {
   "cell_type": "code",
   "execution_count": 82,
   "id": "cdacbedd",
   "metadata": {},
   "outputs": [
    {
     "data": {
      "text/plain": [
       "0"
      ]
     },
     "execution_count": 82,
     "metadata": {},
     "output_type": "execute_result"
    }
   ],
   "source": [
    "df.isnull().values.sum()"
   ]
  },
  {
   "cell_type": "code",
   "execution_count": 83,
   "id": "2770a423",
   "metadata": {},
   "outputs": [
    {
     "data": {
      "text/plain": [
       "0"
      ]
     },
     "execution_count": 83,
     "metadata": {},
     "output_type": "execute_result"
    }
   ],
   "source": [
    "df.duplicated().sum()"
   ]
  },
  {
   "cell_type": "code",
   "execution_count": 84,
   "id": "b87d31eb",
   "metadata": {},
   "outputs": [
    {
     "data": {
      "text/plain": [
       "body_temperature    float64\n",
       "limb_movement       float64\n",
       "Blood_oxygen        float64\n",
       "Sleeping_hours      float64\n",
       "Heart_rate          float64\n",
       "Stress_level          int64\n",
       "dtype: object"
      ]
     },
     "execution_count": 84,
     "metadata": {},
     "output_type": "execute_result"
    }
   ],
   "source": [
    "df.dtypes"
   ]
  },
  {
   "cell_type": "code",
   "execution_count": 85,
   "id": "eab1afef",
   "metadata": {},
   "outputs": [
    {
     "data": {
      "text/html": [
       "<div>\n",
       "<style scoped>\n",
       "    .dataframe tbody tr th:only-of-type {\n",
       "        vertical-align: middle;\n",
       "    }\n",
       "\n",
       "    .dataframe tbody tr th {\n",
       "        vertical-align: top;\n",
       "    }\n",
       "\n",
       "    .dataframe thead th {\n",
       "        text-align: right;\n",
       "    }\n",
       "</style>\n",
       "<table border=\"1\" class=\"dataframe\">\n",
       "  <thead>\n",
       "    <tr style=\"text-align: right;\">\n",
       "      <th></th>\n",
       "      <th>body_temperature</th>\n",
       "      <th>limb_movement</th>\n",
       "      <th>Blood_oxygen</th>\n",
       "      <th>Sleeping_hours</th>\n",
       "      <th>Heart_rate</th>\n",
       "      <th>Stress_level</th>\n",
       "    </tr>\n",
       "  </thead>\n",
       "  <tbody>\n",
       "    <tr>\n",
       "      <th>count</th>\n",
       "      <td>630.00000</td>\n",
       "      <td>630.000000</td>\n",
       "      <td>630.000000</td>\n",
       "      <td>630.000000</td>\n",
       "      <td>630.000000</td>\n",
       "      <td>630.000000</td>\n",
       "    </tr>\n",
       "    <tr>\n",
       "      <th>mean</th>\n",
       "      <td>92.80000</td>\n",
       "      <td>11.700000</td>\n",
       "      <td>90.900000</td>\n",
       "      <td>3.700000</td>\n",
       "      <td>64.500000</td>\n",
       "      <td>2.000000</td>\n",
       "    </tr>\n",
       "    <tr>\n",
       "      <th>std</th>\n",
       "      <td>3.52969</td>\n",
       "      <td>4.299629</td>\n",
       "      <td>3.902483</td>\n",
       "      <td>3.054572</td>\n",
       "      <td>9.915277</td>\n",
       "      <td>1.415337</td>\n",
       "    </tr>\n",
       "    <tr>\n",
       "      <th>min</th>\n",
       "      <td>85.00000</td>\n",
       "      <td>4.000000</td>\n",
       "      <td>82.000000</td>\n",
       "      <td>0.000000</td>\n",
       "      <td>50.000000</td>\n",
       "      <td>0.000000</td>\n",
       "    </tr>\n",
       "    <tr>\n",
       "      <th>25%</th>\n",
       "      <td>90.50000</td>\n",
       "      <td>8.500000</td>\n",
       "      <td>88.500000</td>\n",
       "      <td>0.500000</td>\n",
       "      <td>56.250000</td>\n",
       "      <td>1.000000</td>\n",
       "    </tr>\n",
       "    <tr>\n",
       "      <th>50%</th>\n",
       "      <td>93.00000</td>\n",
       "      <td>11.000000</td>\n",
       "      <td>91.000000</td>\n",
       "      <td>3.500000</td>\n",
       "      <td>62.500000</td>\n",
       "      <td>2.000000</td>\n",
       "    </tr>\n",
       "    <tr>\n",
       "      <th>75%</th>\n",
       "      <td>95.50000</td>\n",
       "      <td>15.750000</td>\n",
       "      <td>94.250000</td>\n",
       "      <td>6.500000</td>\n",
       "      <td>72.500000</td>\n",
       "      <td>3.000000</td>\n",
       "    </tr>\n",
       "    <tr>\n",
       "      <th>max</th>\n",
       "      <td>99.00000</td>\n",
       "      <td>19.000000</td>\n",
       "      <td>97.000000</td>\n",
       "      <td>9.000000</td>\n",
       "      <td>85.000000</td>\n",
       "      <td>4.000000</td>\n",
       "    </tr>\n",
       "  </tbody>\n",
       "</table>\n",
       "</div>"
      ],
      "text/plain": [
       "       body_temperature  limb_movement  Blood_oxygen  Sleeping_hours  \\\n",
       "count         630.00000     630.000000    630.000000      630.000000   \n",
       "mean           92.80000      11.700000     90.900000        3.700000   \n",
       "std             3.52969       4.299629      3.902483        3.054572   \n",
       "min            85.00000       4.000000     82.000000        0.000000   \n",
       "25%            90.50000       8.500000     88.500000        0.500000   \n",
       "50%            93.00000      11.000000     91.000000        3.500000   \n",
       "75%            95.50000      15.750000     94.250000        6.500000   \n",
       "max            99.00000      19.000000     97.000000        9.000000   \n",
       "\n",
       "       Heart_rate  Stress_level  \n",
       "count  630.000000    630.000000  \n",
       "mean    64.500000      2.000000  \n",
       "std      9.915277      1.415337  \n",
       "min     50.000000      0.000000  \n",
       "25%     56.250000      1.000000  \n",
       "50%     62.500000      2.000000  \n",
       "75%     72.500000      3.000000  \n",
       "max     85.000000      4.000000  "
      ]
     },
     "execution_count": 85,
     "metadata": {},
     "output_type": "execute_result"
    }
   ],
   "source": [
    "df.describe()"
   ]
  },
  {
   "cell_type": "code",
   "execution_count": 86,
   "id": "dc3a5162",
   "metadata": {},
   "outputs": [
    {
     "data": {
      "image/png": "[encoded data removed]",
      "text/plain": [
       "<Figure size 800x500 with 2 Axes>"
      ]
     },
     "metadata": {},
     "output_type": "display_data"
    }
   ],
   "source": [
    "fig, ax = plt.subplots(figsize=(8,5))\n",
    "cols=[\"body_temperature\", \"limb_movement\",\"Blood_oxygen\",\"Sleeping_hours\", \"Heart_rate\", \"Stress_level\"]\n",
    "sns.heatmap(df[cols].corr(), cmap=\"icefire\", annot=True, annot_kws={'size': 15})\n",
    "plt.title(\"Correlation Matrix\")\n",
    "plt.show()"
   ]
  },
  {
   "cell_type": "code",
   "execution_count": 87,
   "id": "a08038d7",
   "metadata": {},
   "outputs": [],
   "source": [
    "##--Stress Levels and Sleeping Hours are strongly negatively correlated. The more people sleep, the less they are likely to be stressed\n",
    "##Body temperature and stress level are highly negatively correlated"
   ]
  },
  {
   "cell_type": "code",
   "execution_count": 88,
   "id": "0e940407",
   "metadata": {},
   "outputs": [
    {
     "data": {
      "image/png": "[encoded data removed]",
      "text/plain": [
       "<Figure size 500x500 with 1 Axes>"
      ]
     },
     "metadata": {},
     "output_type": "display_data"
    }
   ],
   "source": [
    "sns.relplot(x=\"Sleeping_hours\", y=\"Stress_level\", data=df, kind=\"scatter\")\n",
    "plt.xlabel(\"Number of Hours Slept\")\n",
    "plt.ylabel(\"Stress Level\")\n",
    "plt.title(\"Relationship Between Sleeping Hours and Stress\")\n",
    "plt.show()\n"
   ]
  },
  {
   "cell_type": "code",
   "execution_count": 89,
   "id": "8440bf41",
   "metadata": {},
   "outputs": [
    {
     "data": {
      "image/png": "[encoded data removed]",
      "text/plain": [
       "<Figure size 700x700 with 1 Axes>"
      ]
     },
     "metadata": {},
     "output_type": "display_data"
    }
   ],
   "source": [
    "fig, ax = plt.subplots(figsize=(7,7))\n",
    "df.groupby(df[\"Stress_level\"])[\"Sleeping_hours\"].mean().plot(kind='bar', rot=0, color='#9966cc')\n",
    "plt.title(\"Stress Levels Measured by Sleeping Hours\")\n",
    "plt.xlabel(\"Stress Levels\")\n",
    "plt.ylabel(\"Number of Hours Slept\")\n",
    "plt.show()"
   ]
  },
  {
   "cell_type": "code",
   "execution_count": 90,
   "id": "72aecbe2",
   "metadata": {},
   "outputs": [
    {
     "data": {
      "image/png": "[encoded data removed]",
      "text/plain": [
       "<Figure size 700x700 with 1 Axes>"
      ]
     },
     "metadata": {},
     "output_type": "display_data"
    }
   ],
   "source": [
    "fig, ax = plt.subplots(figsize=(7,7))\n",
    "df.groupby(df[\"Stress_level\"])[\"limb_movement\"].mean().plot(kind='bar', rot=0, color='#4b5320')\n",
    "plt.title(\"Stress Levels Measured by Limb movement\")\n",
    "plt.xlabel(\"Stress Levels\")\n",
    "plt.ylabel(\"Limb movement\")\n",
    "plt.show()"
   ]
  },
  {
   "cell_type": "code",
   "execution_count": 91,
   "id": "f0e6eeed",
   "metadata": {},
   "outputs": [
    {
     "data": {
      "image/png": "[encoded data removed]",
      "text/plain": [
       "<Figure size 700x700 with 1 Axes>"
      ]
     },
     "metadata": {},
     "output_type": "display_data"
    }
   ],
   "source": [
    "fig, ax = plt.subplots(figsize=(7,7))\n",
    "df.groupby(df[\"Stress_level\"])[\"Heart_rate\"].mean().plot(kind='bar', rot=0, color='#a52a2a')\n",
    "plt.title(\"Stress Levels Measured by heart rate\")\n",
    "plt.xlabel(\"Stress Levels\")\n",
    "plt.ylabel(\"Heart rate\")\n",
    "plt.show()"
   ]
  },
  {
   "cell_type": "code",
   "execution_count": 92,
   "id": "f4c095f4",
   "metadata": {},
   "outputs": [
    {
     "data": {
      "image/png": "[encoded data removed]",
      "text/plain": [
       "<Figure size 700x700 with 1 Axes>"
      ]
     },
     "metadata": {},
     "output_type": "display_data"
    }
   ],
   "source": [
    "fig, ax = plt.subplots(figsize=(7,7))\n",
    "df.groupby(df[\"Stress_level\"])[\"body_temperature\"].mean().plot(kind='bar', rot=0, color='#00008b')\n",
    "plt.title(\"Stress Levels Measured by body_temperature\")\n",
    "plt.xlabel(\"Stress Levels\")\n",
    "plt.ylabel(\"body_temperature\")\n",
    "plt.show()"
   ]
  },
  {
   "cell_type": "code",
   "execution_count": 93,
   "id": "62018e84",
   "metadata": {},
   "outputs": [
    {
     "data": {
      "image/png": "[encoded data removed]",
      "text/plain": [
       "<Figure size 700x700 with 1 Axes>"
      ]
     },
     "metadata": {},
     "output_type": "display_data"
    }
   ],
   "source": [
    "fig, ax = plt.subplots(figsize=(7,7))\n",
    "df.groupby(df[\"Stress_level\"])[\"Blood_oxygen\"].mean().plot(kind='bar', rot=0, color='#0000ff')\n",
    "plt.title(\"Stress Levels Measured by Blood_oxygen\")\n",
    "plt.xlabel(\"Stress Levels\")\n",
    "plt.ylabel(\"Blood_oxygen\")\n",
    "plt.show()"
   ]
  },
  {
   "cell_type": "code",
   "execution_count": 94,
   "id": "fdb22b51",
   "metadata": {},
   "outputs": [
    {
     "data": {
      "image/png": "[encoded data removed]",
      "text/plain": [
       "<Figure size 1600x500 with 2 Axes>"
      ]
     },
     "metadata": {},
     "output_type": "display_data"
    }
   ],
   "source": [
    "plt.figure(figsize=(16,5))\n",
    "plt.subplot(1,2,1)\n",
    "sns.distplot(df['limb_movement'])\n",
    "plt.subplot(1,2,2)\n",
    "sns.distplot(df['Heart_rate'])\n",
    "\n",
    "\n",
    "plt.show()"
   ]
  },
  {
   "cell_type": "code",
   "execution_count": 95,
   "id": "afa7f6df",
   "metadata": {},
   "outputs": [
    {
     "name": "stdout",
     "output_type": "stream",
     "text": [
      "Highest allowed 24.59888744416732\n",
      "Lowest allowed -1.1988874441673225\n"
     ]
    }
   ],
   "source": [
    "print(\"Highest allowed\",df['limb_movement'].mean() + 3*df['limb_movement'].std()) ##applying IQR in limb movement\n",
    "print(\"Lowest allowed\",df['limb_movement'].mean() - 3*df['limb_movement'].std())"
   ]
  },
  {
   "cell_type": "code",
   "execution_count": 96,
   "id": "f1dfd5f4",
   "metadata": {},
   "outputs": [
    {
     "name": "stdout",
     "output_type": "stream",
     "text": [
      "Highest allowed 94.24583109292098\n",
      "Lowest allowed 34.75416890707902\n"
     ]
    }
   ],
   "source": [
    "print(\"Highest allowed\",df['Heart_rate'].mean() + 3*df['Heart_rate'].std()) ##applying IQR in Heart_rate\n",
    "print(\"Lowest allowed\",df['Heart_rate'].mean() - 3*df['Heart_rate'].std())"
   ]
  },
  {
   "cell_type": "code",
   "execution_count": 97,
   "id": "9d9c63fe",
   "metadata": {},
   "outputs": [
    {
     "data": {
      "text/html": [
       "<div>\n",
       "<style scoped>\n",
       "    .dataframe tbody tr th:only-of-type {\n",
       "        vertical-align: middle;\n",
       "    }\n",
       "\n",
       "    .dataframe tbody tr th {\n",
       "        vertical-align: top;\n",
       "    }\n",
       "\n",
       "    .dataframe thead th {\n",
       "        text-align: right;\n",
       "    }\n",
       "</style>\n",
       "<table border=\"1\" class=\"dataframe\">\n",
       "  <thead>\n",
       "    <tr style=\"text-align: right;\">\n",
       "      <th></th>\n",
       "      <th>body_temperature</th>\n",
       "      <th>limb_movement</th>\n",
       "      <th>Blood_oxygen</th>\n",
       "      <th>Sleeping_hours</th>\n",
       "      <th>Heart_rate</th>\n",
       "      <th>Stress_level</th>\n",
       "    </tr>\n",
       "  </thead>\n",
       "  <tbody>\n",
       "  </tbody>\n",
       "</table>\n",
       "</div>"
      ],
      "text/plain": [
       "Empty DataFrame\n",
       "Columns: [body_temperature, limb_movement, Blood_oxygen, Sleeping_hours, Heart_rate, Stress_level]\n",
       "Index: []"
      ]
     },
     "execution_count": 97,
     "metadata": {},
     "output_type": "execute_result"
    }
   ],
   "source": [
    "df[(df['limb_movement'] > 24.59888744416733) | (df['limb_movement'] < -1.1988874441673119)]"
   ]
  },
  {
   "cell_type": "code",
   "execution_count": 98,
   "id": "c17971ba",
   "metadata": {},
   "outputs": [
    {
     "data": {
      "text/html": [
       "<div>\n",
       "<style scoped>\n",
       "    .dataframe tbody tr th:only-of-type {\n",
       "        vertical-align: middle;\n",
       "    }\n",
       "\n",
       "    .dataframe tbody tr th {\n",
       "        vertical-align: top;\n",
       "    }\n",
       "\n",
       "    .dataframe thead th {\n",
       "        text-align: right;\n",
       "    }\n",
       "</style>\n",
       "<table border=\"1\" class=\"dataframe\">\n",
       "  <thead>\n",
       "    <tr style=\"text-align: right;\">\n",
       "      <th></th>\n",
       "      <th>body_temperature</th>\n",
       "      <th>limb_movement</th>\n",
       "      <th>Blood_oxygen</th>\n",
       "      <th>Sleeping_hours</th>\n",
       "      <th>Heart_rate</th>\n",
       "      <th>Stress_level</th>\n",
       "    </tr>\n",
       "  </thead>\n",
       "  <tbody>\n",
       "  </tbody>\n",
       "</table>\n",
       "</div>"
      ],
      "text/plain": [
       "Empty DataFrame\n",
       "Columns: [body_temperature, limb_movement, Blood_oxygen, Sleeping_hours, Heart_rate, Stress_level]\n",
       "Index: []"
      ]
     },
     "execution_count": 98,
     "metadata": {},
     "output_type": "execute_result"
    }
   ],
   "source": [
    "df[(df['Heart_rate'] > 94.24583109292098) | (df['Heart_rate'] <  34.75416890707902)]"
   ]
  },
  {
   "cell_type": "code",
   "execution_count": 99,
   "id": "03e9e817",
   "metadata": {},
   "outputs": [
    {
     "data": {
      "text/plain": [
       "<Axes: >"
      ]
     },
     "execution_count": 99,
     "metadata": {},
     "output_type": "execute_result"
    },
    {
     "data": {
      "image/png": "[encoded data removed]",
      "text/plain": [
       "<Figure size 640x480 with 1 Axes>"
      ]
     },
     "metadata": {},
     "output_type": "display_data"
    }
   ],
   "source": [
    "##Detecting outlier using box plot\n",
    "sns.boxplot(df['Heart_rate'])"
   ]
  },
  {
   "cell_type": "code",
   "execution_count": 100,
   "id": "8752e347",
   "metadata": {},
   "outputs": [
    {
     "data": {
      "text/plain": [
       "<Axes: >"
      ]
     },
     "execution_count": 100,
     "metadata": {},
     "output_type": "execute_result"
    },
    {
     "data": {
      "image/png": "[encoded data removed]",
      "text/plain": [
       "<Figure size 640x480 with 1 Axes>"
      ]
     },
     "metadata": {},
     "output_type": "display_data"
    }
   ],
   "source": [
    "sns.boxplot(df['body_temperature'])"
   ]
  },
  {
   "cell_type": "code",
   "execution_count": 101,
   "id": "120802b4",
   "metadata": {},
   "outputs": [
    {
     "data": {
      "text/plain": [
       "<Axes: >"
      ]
     },
     "execution_count": 101,
     "metadata": {},
     "output_type": "execute_result"
    },
    {
     "data": {
      "image/png": "[encoded data removed]",
      "text/plain": [
       "<Figure size 640x480 with 1 Axes>"
      ]
     },
     "metadata": {},
     "output_type": "display_data"
    }
   ],
   "source": [
    "sns.boxplot(df['Sleeping_hours'])"
   ]
  },
  {
   "cell_type": "code",
   "execution_count": 102,
   "id": "f786081b",
   "metadata": {},
   "outputs": [
    {
     "data": {
      "text/plain": [
       "<Axes: >"
      ]
     },
     "execution_count": 102,
     "metadata": {},
     "output_type": "execute_result"
    },
    {
     "data": {
      "image/png": "[encoded data removed]",
      "text/plain": [
       "<Figure size 640x480 with 1 Axes>"
      ]
     },
     "metadata": {},
     "output_type": "display_data"
    }
   ],
   "source": [
    "sns.boxplot(df['Blood_oxygen'])"
   ]
  },
  {
   "cell_type": "code",
   "execution_count": 103,
   "id": "643791e1",
   "metadata": {},
   "outputs": [
    {
     "data": {
      "text/plain": [
       "<Axes: >"
      ]
     },
     "execution_count": 103,
     "metadata": {},
     "output_type": "execute_result"
    },
    {
     "data": {
      "image/png": "[encoded data removed]",
      "text/plain": [
       "<Figure size 640x480 with 1 Axes>"
      ]
     },
     "metadata": {},
     "output_type": "display_data"
    }
   ],
   "source": [
    "sns.boxplot(df['limb_movement'])"
   ]
  },
  {
   "cell_type": "code",
   "execution_count": 104,
   "id": "856fb80c",
   "metadata": {},
   "outputs": [],
   "source": [
    "df1 = df.copy()"
   ]
  },
  {
   "cell_type": "code",
   "execution_count": 105,
   "id": "db17558b",
   "metadata": {},
   "outputs": [],
   "source": [
    "x=df.iloc[:,0:5]"
   ]
  },
  {
   "cell_type": "code",
   "execution_count": 106,
   "id": "ab374ff1",
   "metadata": {},
   "outputs": [
    {
     "data": {
      "text/html": [
       "<div>\n",
       "<style scoped>\n",
       "    .dataframe tbody tr th:only-of-type {\n",
       "        vertical-align: middle;\n",
       "    }\n",
       "\n",
       "    .dataframe tbody tr th {\n",
       "        vertical-align: top;\n",
       "    }\n",
       "\n",
       "    .dataframe thead th {\n",
       "        text-align: right;\n",
       "    }\n",
       "</style>\n",
       "<table border=\"1\" class=\"dataframe\">\n",
       "  <thead>\n",
       "    <tr style=\"text-align: right;\">\n",
       "      <th></th>\n",
       "      <th>body_temperature</th>\n",
       "      <th>limb_movement</th>\n",
       "      <th>Blood_oxygen</th>\n",
       "      <th>Sleeping_hours</th>\n",
       "      <th>Heart_rate</th>\n",
       "    </tr>\n",
       "  </thead>\n",
       "  <tbody>\n",
       "    <tr>\n",
       "      <th>0</th>\n",
       "      <td>91.840</td>\n",
       "      <td>16.600</td>\n",
       "      <td>89.840</td>\n",
       "      <td>1.840</td>\n",
       "      <td>74.20</td>\n",
       "    </tr>\n",
       "    <tr>\n",
       "      <th>1</th>\n",
       "      <td>91.552</td>\n",
       "      <td>15.880</td>\n",
       "      <td>89.552</td>\n",
       "      <td>1.552</td>\n",
       "      <td>72.76</td>\n",
       "    </tr>\n",
       "    <tr>\n",
       "      <th>2</th>\n",
       "      <td>96.000</td>\n",
       "      <td>10.000</td>\n",
       "      <td>95.000</td>\n",
       "      <td>7.000</td>\n",
       "      <td>60.00</td>\n",
       "    </tr>\n",
       "    <tr>\n",
       "      <th>3</th>\n",
       "      <td>90.768</td>\n",
       "      <td>13.920</td>\n",
       "      <td>88.768</td>\n",
       "      <td>0.768</td>\n",
       "      <td>68.84</td>\n",
       "    </tr>\n",
       "    <tr>\n",
       "      <th>4</th>\n",
       "      <td>97.872</td>\n",
       "      <td>6.496</td>\n",
       "      <td>96.248</td>\n",
       "      <td>8.248</td>\n",
       "      <td>53.12</td>\n",
       "    </tr>\n",
       "    <tr>\n",
       "      <th>...</th>\n",
       "      <td>...</td>\n",
       "      <td>...</td>\n",
       "      <td>...</td>\n",
       "      <td>...</td>\n",
       "      <td>...</td>\n",
       "    </tr>\n",
       "    <tr>\n",
       "      <th>625</th>\n",
       "      <td>92.960</td>\n",
       "      <td>10.960</td>\n",
       "      <td>90.960</td>\n",
       "      <td>3.440</td>\n",
       "      <td>62.40</td>\n",
       "    </tr>\n",
       "    <tr>\n",
       "      <th>626</th>\n",
       "      <td>98.064</td>\n",
       "      <td>6.752</td>\n",
       "      <td>96.376</td>\n",
       "      <td>8.376</td>\n",
       "      <td>53.44</td>\n",
       "    </tr>\n",
       "    <tr>\n",
       "      <th>627</th>\n",
       "      <td>86.880</td>\n",
       "      <td>17.752</td>\n",
       "      <td>84.256</td>\n",
       "      <td>0.000</td>\n",
       "      <td>78.76</td>\n",
       "    </tr>\n",
       "    <tr>\n",
       "      <th>628</th>\n",
       "      <td>95.728</td>\n",
       "      <td>9.728</td>\n",
       "      <td>94.592</td>\n",
       "      <td>6.728</td>\n",
       "      <td>59.32</td>\n",
       "    </tr>\n",
       "    <tr>\n",
       "      <th>629</th>\n",
       "      <td>93.392</td>\n",
       "      <td>11.392</td>\n",
       "      <td>91.392</td>\n",
       "      <td>4.088</td>\n",
       "      <td>63.48</td>\n",
       "    </tr>\n",
       "  </tbody>\n",
       "</table>\n",
       "<p>630 rows × 5 columns</p>\n",
       "</div>"
      ],
      "text/plain": [
       "     body_temperature  limb_movement  Blood_oxygen  Sleeping_hours  Heart_rate\n",
       "0              91.840         16.600        89.840           1.840       74.20\n",
       "1              91.552         15.880        89.552           1.552       72.76\n",
       "2              96.000         10.000        95.000           7.000       60.00\n",
       "3              90.768         13.920        88.768           0.768       68.84\n",
       "4              97.872          6.496        96.248           8.248       53.12\n",
       "..                ...            ...           ...             ...         ...\n",
       "625            92.960         10.960        90.960           3.440       62.40\n",
       "626            98.064          6.752        96.376           8.376       53.44\n",
       "627            86.880         17.752        84.256           0.000       78.76\n",
       "628            95.728          9.728        94.592           6.728       59.32\n",
       "629            93.392         11.392        91.392           4.088       63.48\n",
       "\n",
       "[630 rows x 5 columns]"
      ]
     },
     "execution_count": 106,
     "metadata": {},
     "output_type": "execute_result"
    }
   ],
   "source": [
    "x"
   ]
  },
  {
   "cell_type": "code",
   "execution_count": 107,
   "id": "50afc9c0",
   "metadata": {},
   "outputs": [],
   "source": [
    "y=df.iloc[:,5]"
   ]
  },
  {
   "cell_type": "code",
   "execution_count": 108,
   "id": "06fb7ee1",
   "metadata": {},
   "outputs": [
    {
     "data": {
      "text/plain": [
       "0      3\n",
       "1      3\n",
       "2      1\n",
       "3      3\n",
       "4      0\n",
       "      ..\n",
       "625    2\n",
       "626    0\n",
       "627    4\n",
       "628    1\n",
       "629    2\n",
       "Name: Stress_level, Length: 630, dtype: int64"
      ]
     },
     "execution_count": 108,
     "metadata": {},
     "output_type": "execute_result"
    }
   ],
   "source": [
    "y"
   ]
  },
  {
   "cell_type": "code",
   "execution_count": 109,
   "id": "0d3bd577",
   "metadata": {},
   "outputs": [],
   "source": [
    "from sklearn.model_selection import train_test_split"
   ]
  },
  {
   "cell_type": "code",
   "execution_count": 110,
   "id": "c8f50607",
   "metadata": {},
   "outputs": [],
   "source": [
    "X_train,X_test,y_train,y_test =train_test_split(x,y,test_size=0.3)"
   ]
  },
  {
   "cell_type": "code",
   "execution_count": 111,
   "id": "9b3fb974",
   "metadata": {},
   "outputs": [
    {
     "data": {
      "text/plain": [
       "441"
      ]
     },
     "execution_count": 111,
     "metadata": {},
     "output_type": "execute_result"
    }
   ],
   "source": [
    "len(X_train)"
   ]
  },
  {
   "cell_type": "code",
   "execution_count": 112,
   "id": "8134970d",
   "metadata": {},
   "outputs": [
    {
     "data": {
      "text/plain": [
       "189"
      ]
     },
     "execution_count": 112,
     "metadata": {},
     "output_type": "execute_result"
    }
   ],
   "source": [
    "len(X_test)"
   ]
  },
  {
   "cell_type": "code",
   "execution_count": 113,
   "id": "5f4bfa69",
   "metadata": {},
   "outputs": [],
   "source": [
    "from sklearn.svm import SVC"
   ]
  },
  {
   "cell_type": "code",
   "execution_count": 114,
   "id": "207720cd",
   "metadata": {},
   "outputs": [],
   "source": [
    "model=SVC(kernel= 'rbf')"
   ]
  },
  {
   "cell_type": "code",
   "execution_count": 115,
   "id": "89a67496",
   "metadata": {},
   "outputs": [
    {
     "data": {
      "text/html": [
       "<style>#sk-container-id-4 {color: black;background-color: white;}#sk-container-id-4 pre{padding: 0;}#sk-container-id-4 div.sk-toggleable {background-color: white;}#sk-container-id-4 label.sk-toggleable__label {cursor: pointer;display: block;width: 100%;margin-bottom: 0;padding: 0.3em;box-sizing: border-box;text-align: center;}#sk-container-id-4 label.sk-toggleable__label-arrow:before {content: \"▸\";float: left;margin-right: 0.25em;color: #696969;}#sk-container-id-4 label.sk-toggleable__label-arrow:hover:before {color: black;}#sk-container-id-4 div.sk-estimator:hover label.sk-toggleable__label-arrow:before {color: black;}#sk-container-id-4 div.sk-toggleable__content {max-height: 0;max-width: 0;overflow: hidden;text-align: left;background-color: #f0f8ff;}#sk-container-id-4 div.sk-toggleable__content pre {margin: 0.2em;color: black;border-radius: 0.25em;background-color: #f0f8ff;}#sk-container-id-4 input.sk-toggleable__control:checked~div.sk-toggleable__content {max-height: 200px;max-width: 100%;overflow: auto;}#sk-container-id-4 input.sk-toggleable__control:checked~label.sk-toggleable__label-arrow:before {content: \"▾\";}#sk-container-id-4 div.sk-estimator input.sk-toggleable__control:checked~label.sk-toggleable__label {background-color: #d4ebff;}#sk-container-id-4 div.sk-label input.sk-toggleable__control:checked~label.sk-toggleable__label {background-color: #d4ebff;}#sk-container-id-4 input.sk-hidden--visually {border: 0;clip: rect(1px 1px 1px 1px);clip: rect(1px, 1px, 1px, 1px);height: 1px;margin: -1px;overflow: hidden;padding: 0;position: absolute;width: 1px;}#sk-container-id-4 div.sk-estimator {font-family: monospace;background-color: #f0f8ff;border: 1px dotted black;border-radius: 0.25em;box-sizing: border-box;margin-bottom: 0.5em;}#sk-container-id-4 div.sk-estimator:hover {background-color: #d4ebff;}#sk-container-id-4 div.sk-parallel-item::after {content: \"\";width: 100%;border-bottom: 1px solid gray;flex-grow: 1;}#sk-container-id-4 div.sk-label:hover label.sk-toggleable__label {background-color: #d4ebff;}#sk-container-id-4 div.sk-serial::before {content: \"\";position: absolute;border-left: 1px solid gray;box-sizing: border-box;top: 0;bottom: 0;left: 50%;z-index: 0;}#sk-container-id-4 div.sk-serial {display: flex;flex-direction: column;align-items: center;background-color: white;padding-right: 0.2em;padding-left: 0.2em;position: relative;}#sk-container-id-4 div.sk-item {position: relative;z-index: 1;}#sk-container-id-4 div.sk-parallel {display: flex;align-items: stretch;justify-content: center;background-color: white;position: relative;}#sk-container-id-4 div.sk-item::before, #sk-container-id-4 div.sk-parallel-item::before {content: \"\";position: absolute;border-left: 1px solid gray;box-sizing: border-box;top: 0;bottom: 0;left: 50%;z-index: -1;}#sk-container-id-4 div.sk-parallel-item {display: flex;flex-direction: column;z-index: 1;position: relative;background-color: white;}#sk-container-id-4 div.sk-parallel-item:first-child::after {align-self: flex-end;width: 50%;}#sk-container-id-4 div.sk-parallel-item:last-child::after {align-self: flex-start;width: 50%;}#sk-container-id-4 div.sk-parallel-item:only-child::after {width: 0;}#sk-container-id-4 div.sk-dashed-wrapped {border: 1px dashed gray;margin: 0 0.4em 0.5em 0.4em;box-sizing: border-box;padding-bottom: 0.4em;background-color: white;}#sk-container-id-4 div.sk-label label {font-family: monospace;font-weight: bold;display: inline-block;line-height: 1.2em;}#sk-container-id-4 div.sk-label-container {text-align: center;}#sk-container-id-4 div.sk-container {/* jupyter's `normalize.less` sets `[hidden] { display: none; }` but bootstrap.min.css set `[hidden] { display: none !important; }` so we also need the `!important` here to be able to override the default hidden behavior on the sphinx rendered scikit-learn.org. See: https://github.com/scikit-learn/scikit-learn/issues/21755 */display: inline-block !important;position: relative;}#sk-container-id-4 div.sk-text-repr-fallback {display: none;}</style><div id=\"sk-container-id-4\" class=\"sk-top-container\"><div class=\"sk-text-repr-fallback\"><pre>SVC()</pre><b>In a Jupyter environment, please rerun this cell to show the HTML representation or trust the notebook. <br />On GitHub, the HTML representation is unable to render, please try loading this page with nbviewer.org.</b></div><div class=\"sk-container\" hidden><div class=\"sk-item\"><div class=\"sk-estimator sk-toggleable\"><input class=\"sk-toggleable__control sk-hidden--visually\" id=\"sk-estimator-id-4\" type=\"checkbox\" checked><label for=\"sk-estimator-id-4\" class=\"sk-toggleable__label sk-toggleable__label-arrow\">SVC</label><div class=\"sk-toggleable__content\"><pre>SVC()</pre></div></div></div></div></div>"
      ],
      "text/plain": [
       "SVC()"
      ]
     },
     "execution_count": 115,
     "metadata": {},
     "output_type": "execute_result"
    }
   ],
   "source": [
    "model.fit(X_train,y_train)"
   ]
  },
  {
   "cell_type": "code",
   "execution_count": 116,
   "id": "5c399c81",
   "metadata": {},
   "outputs": [
    {
     "data": {
      "text/plain": [
       "array([1, 1, 0, 1, 3, 1, 4, 4, 1, 0, 3, 2, 0, 3, 3, 4, 3, 0, 4, 0, 2, 0,\n",
       "       3, 1, 0, 2, 4, 0, 1, 4, 1, 4, 3, 4, 1, 3, 3, 4, 4, 3, 0, 1, 0, 1,\n",
       "       0, 1, 4, 3, 1, 0, 0, 2, 0, 2, 1, 2, 1, 1, 4, 3, 2, 0, 1, 4, 2, 4,\n",
       "       3, 4, 4, 1, 1, 1, 0, 1, 4, 1, 1, 3, 0, 0, 2, 3, 4, 3, 0, 1, 1, 0,\n",
       "       0, 4, 4, 4, 2, 0, 1, 1, 2, 0, 4, 0, 4, 2, 3, 1, 3, 1, 3, 1, 1, 1,\n",
       "       0, 0, 0, 1, 2, 1, 2, 2, 3, 0, 0, 4, 3, 4, 3, 2, 1, 3, 2, 1, 4, 4,\n",
       "       3, 1, 1, 3, 4, 0, 4, 4, 1, 2, 1, 1, 4, 1, 4, 1, 4, 3, 2, 4, 0, 4,\n",
       "       3, 3, 4, 2, 4, 1, 4, 2, 0, 0, 0, 4, 1, 0, 1, 1, 2, 1, 1, 1, 3, 3,\n",
       "       0, 4, 3, 3, 2, 0, 2, 1, 3, 3, 4, 4, 2], dtype=int64)"
      ]
     },
     "execution_count": 116,
     "metadata": {},
     "output_type": "execute_result"
    }
   ],
   "source": [
    "model.predict(X_test)"
   ]
  },
  {
   "cell_type": "code",
   "execution_count": 117,
   "id": "0676b21e",
   "metadata": {},
   "outputs": [
    {
     "data": {
      "text/html": [
       "<div>\n",
       "<style scoped>\n",
       "    .dataframe tbody tr th:only-of-type {\n",
       "        vertical-align: middle;\n",
       "    }\n",
       "\n",
       "    .dataframe tbody tr th {\n",
       "        vertical-align: top;\n",
       "    }\n",
       "\n",
       "    .dataframe thead th {\n",
       "        text-align: right;\n",
       "    }\n",
       "</style>\n",
       "<table border=\"1\" class=\"dataframe\">\n",
       "  <thead>\n",
       "    <tr style=\"text-align: right;\">\n",
       "      <th></th>\n",
       "      <th>body_temperature</th>\n",
       "      <th>limb_movement</th>\n",
       "      <th>Blood_oxygen</th>\n",
       "      <th>Sleeping_hours</th>\n",
       "      <th>Heart_rate</th>\n",
       "    </tr>\n",
       "  </thead>\n",
       "  <tbody>\n",
       "    <tr>\n",
       "      <th>67</th>\n",
       "      <td>92.048</td>\n",
       "      <td>10.048</td>\n",
       "      <td>90.048</td>\n",
       "      <td>2.072</td>\n",
       "      <td>60.12</td>\n",
       "    </tr>\n",
       "    <tr>\n",
       "      <th>134</th>\n",
       "      <td>95.936</td>\n",
       "      <td>9.936</td>\n",
       "      <td>94.904</td>\n",
       "      <td>6.936</td>\n",
       "      <td>59.84</td>\n",
       "    </tr>\n",
       "    <tr>\n",
       "      <th>12</th>\n",
       "      <td>98.160</td>\n",
       "      <td>6.880</td>\n",
       "      <td>96.440</td>\n",
       "      <td>8.440</td>\n",
       "      <td>53.60</td>\n",
       "    </tr>\n",
       "    <tr>\n",
       "      <th>387</th>\n",
       "      <td>95.424</td>\n",
       "      <td>9.424</td>\n",
       "      <td>94.136</td>\n",
       "      <td>6.424</td>\n",
       "      <td>58.56</td>\n",
       "    </tr>\n",
       "    <tr>\n",
       "      <th>236</th>\n",
       "      <td>91.152</td>\n",
       "      <td>14.880</td>\n",
       "      <td>89.152</td>\n",
       "      <td>1.152</td>\n",
       "      <td>70.76</td>\n",
       "    </tr>\n",
       "    <tr>\n",
       "      <th>...</th>\n",
       "      <td>...</td>\n",
       "      <td>...</td>\n",
       "      <td>...</td>\n",
       "      <td>...</td>\n",
       "      <td>...</td>\n",
       "    </tr>\n",
       "    <tr>\n",
       "      <th>610</th>\n",
       "      <td>91.824</td>\n",
       "      <td>16.560</td>\n",
       "      <td>89.824</td>\n",
       "      <td>1.824</td>\n",
       "      <td>74.12</td>\n",
       "    </tr>\n",
       "    <tr>\n",
       "      <th>124</th>\n",
       "      <td>90.480</td>\n",
       "      <td>13.200</td>\n",
       "      <td>88.480</td>\n",
       "      <td>0.480</td>\n",
       "      <td>67.40</td>\n",
       "    </tr>\n",
       "    <tr>\n",
       "      <th>623</th>\n",
       "      <td>87.680</td>\n",
       "      <td>18.072</td>\n",
       "      <td>85.216</td>\n",
       "      <td>0.000</td>\n",
       "      <td>80.36</td>\n",
       "    </tr>\n",
       "    <tr>\n",
       "      <th>294</th>\n",
       "      <td>87.960</td>\n",
       "      <td>18.184</td>\n",
       "      <td>85.552</td>\n",
       "      <td>0.000</td>\n",
       "      <td>80.92</td>\n",
       "    </tr>\n",
       "    <tr>\n",
       "      <th>137</th>\n",
       "      <td>93.808</td>\n",
       "      <td>11.808</td>\n",
       "      <td>91.808</td>\n",
       "      <td>4.712</td>\n",
       "      <td>64.52</td>\n",
       "    </tr>\n",
       "  </tbody>\n",
       "</table>\n",
       "<p>189 rows × 5 columns</p>\n",
       "</div>"
      ],
      "text/plain": [
       "     body_temperature  limb_movement  Blood_oxygen  Sleeping_hours  Heart_rate\n",
       "67             92.048         10.048        90.048           2.072       60.12\n",
       "134            95.936          9.936        94.904           6.936       59.84\n",
       "12             98.160          6.880        96.440           8.440       53.60\n",
       "387            95.424          9.424        94.136           6.424       58.56\n",
       "236            91.152         14.880        89.152           1.152       70.76\n",
       "..                ...            ...           ...             ...         ...\n",
       "610            91.824         16.560        89.824           1.824       74.12\n",
       "124            90.480         13.200        88.480           0.480       67.40\n",
       "623            87.680         18.072        85.216           0.000       80.36\n",
       "294            87.960         18.184        85.552           0.000       80.92\n",
       "137            93.808         11.808        91.808           4.712       64.52\n",
       "\n",
       "[189 rows x 5 columns]"
      ]
     },
     "execution_count": 117,
     "metadata": {},
     "output_type": "execute_result"
    }
   ],
   "source": [
    "X_test"
   ]
  },
  {
   "cell_type": "code",
   "execution_count": 118,
   "id": "6eb1b796",
   "metadata": {},
   "outputs": [
    {
     "data": {
      "text/plain": [
       "0.8888888888888888"
      ]
     },
     "execution_count": 118,
     "metadata": {},
     "output_type": "execute_result"
    }
   ],
   "source": [
    "model.score(X_test,y_test)"
   ]
  },
  {
   "cell_type": "code",
   "execution_count": 119,
   "id": "96606cb6",
   "metadata": {},
   "outputs": [],
   "source": [
    "from sklearn.svm import SVC\n",
    "from sklearn.model_selection import GridSearchCV\n",
    "from sklearn.datasets import make_classification\n",
    "from sklearn.model_selection import train_test_split\n",
    "\n",
    "                     "
   ]
  },
  {
   "cell_type": "code",
   "execution_count": 120,
   "id": "6ca49c87",
   "metadata": {},
   "outputs": [
    {
     "name": "stdout",
     "output_type": "stream",
     "text": [
      "Best parameters:  {'C': 1, 'gamma': 0.1, 'kernel': 'rbf'}\n",
      "Test accuracy:  0.97\n"
     ]
    }
   ],
   "source": [
    "X, y = make_classification(n_samples=1000, n_features=10)\n",
    "X_train, X_test, y_train, y_test = train_test_split(X, y, test_size=0.3)\n",
    "param_grid = {\n",
    "    'C': [0.1, 1, 10],\n",
    "    'kernel': [ 'rbf'],\n",
    "    'gamma': [0.1, 1, 10]\n",
    "}\n",
    "# Create the SVM classifier\n",
    "svm = SVC()\n",
    "\n",
    "# Create the GridSearchCV object\n",
    "grid_search = GridSearchCV(svm, param_grid, cv=5)\n",
    "\n",
    "# Fit the data to perform the search\n",
    "grid_search.fit(X_train, y_train)\n",
    "\n",
    "# Print the best parameters found\n",
    "print(\"Best parameters: \", grid_search.best_params_)\n",
    "\n",
    "# Evaluate the best model on the test set\n",
    "best_model = grid_search.best_estimator_\n",
    "accuracy = best_model.score(X_test, y_test)\n",
    "print(\"Test accuracy: \", accuracy)"
   ]
  },
  {
   "cell_type": "code",
   "execution_count": 121,
   "id": "2a7c8218",
   "metadata": {},
   "outputs": [],
   "source": [
    "Y=df['Stress_level']"
   ]
  },
  {
   "cell_type": "code",
   "execution_count": 122,
   "id": "5aa2cfdd",
   "metadata": {},
   "outputs": [],
   "source": [
    "X=df.drop(['Stress_level'],axis=1)"
   ]
  },
  {
   "cell_type": "code",
   "execution_count": 123,
   "id": "bdb8be03",
   "metadata": {},
   "outputs": [
    {
     "data": {
      "text/html": [
       "<div>\n",
       "<style scoped>\n",
       "    .dataframe tbody tr th:only-of-type {\n",
       "        vertical-align: middle;\n",
       "    }\n",
       "\n",
       "    .dataframe tbody tr th {\n",
       "        vertical-align: top;\n",
       "    }\n",
       "\n",
       "    .dataframe thead th {\n",
       "        text-align: right;\n",
       "    }\n",
       "</style>\n",
       "<table border=\"1\" class=\"dataframe\">\n",
       "  <thead>\n",
       "    <tr style=\"text-align: right;\">\n",
       "      <th></th>\n",
       "      <th>body_temperature</th>\n",
       "      <th>limb_movement</th>\n",
       "      <th>Blood_oxygen</th>\n",
       "      <th>Sleeping_hours</th>\n",
       "      <th>Heart_rate</th>\n",
       "    </tr>\n",
       "  </thead>\n",
       "  <tbody>\n",
       "    <tr>\n",
       "      <th>0</th>\n",
       "      <td>91.840</td>\n",
       "      <td>16.600</td>\n",
       "      <td>89.840</td>\n",
       "      <td>1.840</td>\n",
       "      <td>74.20</td>\n",
       "    </tr>\n",
       "    <tr>\n",
       "      <th>1</th>\n",
       "      <td>91.552</td>\n",
       "      <td>15.880</td>\n",
       "      <td>89.552</td>\n",
       "      <td>1.552</td>\n",
       "      <td>72.76</td>\n",
       "    </tr>\n",
       "    <tr>\n",
       "      <th>2</th>\n",
       "      <td>96.000</td>\n",
       "      <td>10.000</td>\n",
       "      <td>95.000</td>\n",
       "      <td>7.000</td>\n",
       "      <td>60.00</td>\n",
       "    </tr>\n",
       "    <tr>\n",
       "      <th>3</th>\n",
       "      <td>90.768</td>\n",
       "      <td>13.920</td>\n",
       "      <td>88.768</td>\n",
       "      <td>0.768</td>\n",
       "      <td>68.84</td>\n",
       "    </tr>\n",
       "    <tr>\n",
       "      <th>4</th>\n",
       "      <td>97.872</td>\n",
       "      <td>6.496</td>\n",
       "      <td>96.248</td>\n",
       "      <td>8.248</td>\n",
       "      <td>53.12</td>\n",
       "    </tr>\n",
       "  </tbody>\n",
       "</table>\n",
       "</div>"
      ],
      "text/plain": [
       "   body_temperature  limb_movement  Blood_oxygen  Sleeping_hours  Heart_rate\n",
       "0            91.840         16.600        89.840           1.840       74.20\n",
       "1            91.552         15.880        89.552           1.552       72.76\n",
       "2            96.000         10.000        95.000           7.000       60.00\n",
       "3            90.768         13.920        88.768           0.768       68.84\n",
       "4            97.872          6.496        96.248           8.248       53.12"
      ]
     },
     "execution_count": 123,
     "metadata": {},
     "output_type": "execute_result"
    }
   ],
   "source": [
    "X.head()"
   ]
  },
  {
   "cell_type": "code",
   "execution_count": 124,
   "id": "14786af8",
   "metadata": {},
   "outputs": [
    {
     "data": {
      "text/html": [
       "<style>#sk-container-id-5 {color: black;background-color: white;}#sk-container-id-5 pre{padding: 0;}#sk-container-id-5 div.sk-toggleable {background-color: white;}#sk-container-id-5 label.sk-toggleable__label {cursor: pointer;display: block;width: 100%;margin-bottom: 0;padding: 0.3em;box-sizing: border-box;text-align: center;}#sk-container-id-5 label.sk-toggleable__label-arrow:before {content: \"▸\";float: left;margin-right: 0.25em;color: #696969;}#sk-container-id-5 label.sk-toggleable__label-arrow:hover:before {color: black;}#sk-container-id-5 div.sk-estimator:hover label.sk-toggleable__label-arrow:before {color: black;}#sk-container-id-5 div.sk-toggleable__content {max-height: 0;max-width: 0;overflow: hidden;text-align: left;background-color: #f0f8ff;}#sk-container-id-5 div.sk-toggleable__content pre {margin: 0.2em;color: black;border-radius: 0.25em;background-color: #f0f8ff;}#sk-container-id-5 input.sk-toggleable__control:checked~div.sk-toggleable__content {max-height: 200px;max-width: 100%;overflow: auto;}#sk-container-id-5 input.sk-toggleable__control:checked~label.sk-toggleable__label-arrow:before {content: \"▾\";}#sk-container-id-5 div.sk-estimator input.sk-toggleable__control:checked~label.sk-toggleable__label {background-color: #d4ebff;}#sk-container-id-5 div.sk-label input.sk-toggleable__control:checked~label.sk-toggleable__label {background-color: #d4ebff;}#sk-container-id-5 input.sk-hidden--visually {border: 0;clip: rect(1px 1px 1px 1px);clip: rect(1px, 1px, 1px, 1px);height: 1px;margin: -1px;overflow: hidden;padding: 0;position: absolute;width: 1px;}#sk-container-id-5 div.sk-estimator {font-family: monospace;background-color: #f0f8ff;border: 1px dotted black;border-radius: 0.25em;box-sizing: border-box;margin-bottom: 0.5em;}#sk-container-id-5 div.sk-estimator:hover {background-color: #d4ebff;}#sk-container-id-5 div.sk-parallel-item::after {content: \"\";width: 100%;border-bottom: 1px solid gray;flex-grow: 1;}#sk-container-id-5 div.sk-label:hover label.sk-toggleable__label {background-color: #d4ebff;}#sk-container-id-5 div.sk-serial::before {content: \"\";position: absolute;border-left: 1px solid gray;box-sizing: border-box;top: 0;bottom: 0;left: 50%;z-index: 0;}#sk-container-id-5 div.sk-serial {display: flex;flex-direction: column;align-items: center;background-color: white;padding-right: 0.2em;padding-left: 0.2em;position: relative;}#sk-container-id-5 div.sk-item {position: relative;z-index: 1;}#sk-container-id-5 div.sk-parallel {display: flex;align-items: stretch;justify-content: center;background-color: white;position: relative;}#sk-container-id-5 div.sk-item::before, #sk-container-id-5 div.sk-parallel-item::before {content: \"\";position: absolute;border-left: 1px solid gray;box-sizing: border-box;top: 0;bottom: 0;left: 50%;z-index: -1;}#sk-container-id-5 div.sk-parallel-item {display: flex;flex-direction: column;z-index: 1;position: relative;background-color: white;}#sk-container-id-5 div.sk-parallel-item:first-child::after {align-self: flex-end;width: 50%;}#sk-container-id-5 div.sk-parallel-item:last-child::after {align-self: flex-start;width: 50%;}#sk-container-id-5 div.sk-parallel-item:only-child::after {width: 0;}#sk-container-id-5 div.sk-dashed-wrapped {border: 1px dashed gray;margin: 0 0.4em 0.5em 0.4em;box-sizing: border-box;padding-bottom: 0.4em;background-color: white;}#sk-container-id-5 div.sk-label label {font-family: monospace;font-weight: bold;display: inline-block;line-height: 1.2em;}#sk-container-id-5 div.sk-label-container {text-align: center;}#sk-container-id-5 div.sk-container {/* jupyter's `normalize.less` sets `[hidden] { display: none; }` but bootstrap.min.css set `[hidden] { display: none !important; }` so we also need the `!important` here to be able to override the default hidden behavior on the sphinx rendered scikit-learn.org. See: https://github.com/scikit-learn/scikit-learn/issues/21755 */display: inline-block !important;position: relative;}#sk-container-id-5 div.sk-text-repr-fallback {display: none;}</style><div id=\"sk-container-id-5\" class=\"sk-top-container\"><div class=\"sk-text-repr-fallback\"><pre>StandardScaler()</pre><b>In a Jupyter environment, please rerun this cell to show the HTML representation or trust the notebook. <br />On GitHub, the HTML representation is unable to render, please try loading this page with nbviewer.org.</b></div><div class=\"sk-container\" hidden><div class=\"sk-item\"><div class=\"sk-estimator sk-toggleable\"><input class=\"sk-toggleable__control sk-hidden--visually\" id=\"sk-estimator-id-5\" type=\"checkbox\" checked><label for=\"sk-estimator-id-5\" class=\"sk-toggleable__label sk-toggleable__label-arrow\">StandardScaler</label><div class=\"sk-toggleable__content\"><pre>StandardScaler()</pre></div></div></div></div></div>"
      ],
      "text/plain": [
       "StandardScaler()"
      ]
     },
     "execution_count": 124,
     "metadata": {},
     "output_type": "execute_result"
    }
   ],
   "source": [
    "from sklearn.preprocessing import StandardScaler\n",
    "scaler = StandardScaler()\n",
    "scaler.fit(X)"
   ]
  },
  {
   "cell_type": "code",
   "execution_count": 125,
   "id": "97347b75",
   "metadata": {},
   "outputs": [],
   "source": [
    "X= scaler.transform(X)"
   ]
  },
  {
   "cell_type": "code",
   "execution_count": 126,
   "id": "e8505b81",
   "metadata": {},
   "outputs": [
    {
     "name": "stdout",
     "output_type": "stream",
     "text": [
      "Accuracy score of training data :  0.9698412698412698\n"
     ]
    }
   ],
   "source": [
    "from sklearn.linear_model import LogisticRegression\n",
    "lr=LogisticRegression(solver='liblinear',multi_class='ovr')\n",
    "lr.fit(X,Y)\n",
    "from sklearn.metrics import accuracy_score\n",
    "X_train_prediction = lr.predict(X)\n",
    "training_data_accuracy_LR= accuracy_score(Y, X_train_prediction)\n",
    "print('Accuracy score of training data : ', training_data_accuracy_LR)"
   ]
  },
  {
   "cell_type": "code",
   "execution_count": 127,
   "id": "eed17e8f",
   "metadata": {},
   "outputs": [
    {
     "name": "stdout",
     "output_type": "stream",
     "text": [
      "Best parameters:  {'C': 0.1, 'penalty': 'l1', 'solver': 'liblinear'}\n",
      "Test accuracy:  0.9033333333333333\n"
     ]
    }
   ],
   "source": [
    "from sklearn.linear_model import LogisticRegression\n",
    "from sklearn.model_selection import GridSearchCV\n",
    "from sklearn.datasets import make_classification\n",
    "from sklearn.model_selection import train_test_split\n",
    "\n",
    "# Generate some example data\n",
    "X, y = make_classification(n_samples=1000, n_features=10)\n",
    "\n",
    "# Split the data into training and test sets\n",
    "X_train, X_test, y_train, y_test = train_test_split(X, y, test_size=0.3)\n",
    "\n",
    "# Define the parameter grid to search over\n",
    "param_grid = {\n",
    "    'C': [0.1, 1, 10],\n",
    "    'penalty': ['l1', 'l2'],\n",
    "    'solver': ['liblinear']\n",
    "}\n",
    "\n",
    "# Create the logistic regression classifier\n",
    "logistic_regression = LogisticRegression()\n",
    "\n",
    "# Create the GridSearchCV object\n",
    "grid_search = GridSearchCV(logistic_regression, param_grid, cv=5)\n",
    "\n",
    "# Fit the data to perform the search\n",
    "grid_search.fit(X_train, y_train)\n",
    "\n",
    "# Print the best parameters found\n",
    "print(\"Best parameters: \", grid_search.best_params_)\n",
    "\n",
    "# Evaluate the best model on the test set\n",
    "best_model = grid_search.best_estimator_\n",
    "accuracy = best_model.score(X_test, y_test)\n",
    "print(\"Test accuracy: \", accuracy)\n"
   ]
  },
  {
   "cell_type": "code",
   "execution_count": 128,
   "id": "7a0aa1d4",
   "metadata": {},
   "outputs": [],
   "source": [
    "from sklearn.model_selection import train_test_split"
   ]
  },
  {
   "cell_type": "code",
   "execution_count": 129,
   "id": "fdcf4ddb",
   "metadata": {},
   "outputs": [],
   "source": [
    " X_train,X_test,y_train,y_test =train_test_split(X,y,test_size=0.3)"
   ]
  },
  {
   "cell_type": "code",
   "execution_count": 130,
   "id": "59b1ecfe",
   "metadata": {},
   "outputs": [],
   "source": [
    "from sklearn.tree import DecisionTreeClassifier"
   ]
  },
  {
   "cell_type": "code",
   "execution_count": 131,
   "id": "f9d8c249",
   "metadata": {},
   "outputs": [],
   "source": [
    "classifier = DecisionTreeClassifier(criterion='gini')"
   ]
  },
  {
   "cell_type": "code",
   "execution_count": 132,
   "id": "cc1b8acd",
   "metadata": {},
   "outputs": [
    {
     "data": {
      "text/html": [
       "<style>#sk-container-id-6 {color: black;background-color: white;}#sk-container-id-6 pre{padding: 0;}#sk-container-id-6 div.sk-toggleable {background-color: white;}#sk-container-id-6 label.sk-toggleable__label {cursor: pointer;display: block;width: 100%;margin-bottom: 0;padding: 0.3em;box-sizing: border-box;text-align: center;}#sk-container-id-6 label.sk-toggleable__label-arrow:before {content: \"▸\";float: left;margin-right: 0.25em;color: #696969;}#sk-container-id-6 label.sk-toggleable__label-arrow:hover:before {color: black;}#sk-container-id-6 div.sk-estimator:hover label.sk-toggleable__label-arrow:before {color: black;}#sk-container-id-6 div.sk-toggleable__content {max-height: 0;max-width: 0;overflow: hidden;text-align: left;background-color: #f0f8ff;}#sk-container-id-6 div.sk-toggleable__content pre {margin: 0.2em;color: black;border-radius: 0.25em;background-color: #f0f8ff;}#sk-container-id-6 input.sk-toggleable__control:checked~div.sk-toggleable__content {max-height: 200px;max-width: 100%;overflow: auto;}#sk-container-id-6 input.sk-toggleable__control:checked~label.sk-toggleable__label-arrow:before {content: \"▾\";}#sk-container-id-6 div.sk-estimator input.sk-toggleable__control:checked~label.sk-toggleable__label {background-color: #d4ebff;}#sk-container-id-6 div.sk-label input.sk-toggleable__control:checked~label.sk-toggleable__label {background-color: #d4ebff;}#sk-container-id-6 input.sk-hidden--visually {border: 0;clip: rect(1px 1px 1px 1px);clip: rect(1px, 1px, 1px, 1px);height: 1px;margin: -1px;overflow: hidden;padding: 0;position: absolute;width: 1px;}#sk-container-id-6 div.sk-estimator {font-family: monospace;background-color: #f0f8ff;border: 1px dotted black;border-radius: 0.25em;box-sizing: border-box;margin-bottom: 0.5em;}#sk-container-id-6 div.sk-estimator:hover {background-color: #d4ebff;}#sk-container-id-6 div.sk-parallel-item::after {content: \"\";width: 100%;border-bottom: 1px solid gray;flex-grow: 1;}#sk-container-id-6 div.sk-label:hover label.sk-toggleable__label {background-color: #d4ebff;}#sk-container-id-6 div.sk-serial::before {content: \"\";position: absolute;border-left: 1px solid gray;box-sizing: border-box;top: 0;bottom: 0;left: 50%;z-index: 0;}#sk-container-id-6 div.sk-serial {display: flex;flex-direction: column;align-items: center;background-color: white;padding-right: 0.2em;padding-left: 0.2em;position: relative;}#sk-container-id-6 div.sk-item {position: relative;z-index: 1;}#sk-container-id-6 div.sk-parallel {display: flex;align-items: stretch;justify-content: center;background-color: white;position: relative;}#sk-container-id-6 div.sk-item::before, #sk-container-id-6 div.sk-parallel-item::before {content: \"\";position: absolute;border-left: 1px solid gray;box-sizing: border-box;top: 0;bottom: 0;left: 50%;z-index: -1;}#sk-container-id-6 div.sk-parallel-item {display: flex;flex-direction: column;z-index: 1;position: relative;background-color: white;}#sk-container-id-6 div.sk-parallel-item:first-child::after {align-self: flex-end;width: 50%;}#sk-container-id-6 div.sk-parallel-item:last-child::after {align-self: flex-start;width: 50%;}#sk-container-id-6 div.sk-parallel-item:only-child::after {width: 0;}#sk-container-id-6 div.sk-dashed-wrapped {border: 1px dashed gray;margin: 0 0.4em 0.5em 0.4em;box-sizing: border-box;padding-bottom: 0.4em;background-color: white;}#sk-container-id-6 div.sk-label label {font-family: monospace;font-weight: bold;display: inline-block;line-height: 1.2em;}#sk-container-id-6 div.sk-label-container {text-align: center;}#sk-container-id-6 div.sk-container {/* jupyter's `normalize.less` sets `[hidden] { display: none; }` but bootstrap.min.css set `[hidden] { display: none !important; }` so we also need the `!important` here to be able to override the default hidden behavior on the sphinx rendered scikit-learn.org. See: https://github.com/scikit-learn/scikit-learn/issues/21755 */display: inline-block !important;position: relative;}#sk-container-id-6 div.sk-text-repr-fallback {display: none;}</style><div id=\"sk-container-id-6\" class=\"sk-top-container\"><div class=\"sk-text-repr-fallback\"><pre>DecisionTreeClassifier()</pre><b>In a Jupyter environment, please rerun this cell to show the HTML representation or trust the notebook. <br />On GitHub, the HTML representation is unable to render, please try loading this page with nbviewer.org.</b></div><div class=\"sk-container\" hidden><div class=\"sk-item\"><div class=\"sk-estimator sk-toggleable\"><input class=\"sk-toggleable__control sk-hidden--visually\" id=\"sk-estimator-id-6\" type=\"checkbox\" checked><label for=\"sk-estimator-id-6\" class=\"sk-toggleable__label sk-toggleable__label-arrow\">DecisionTreeClassifier</label><div class=\"sk-toggleable__content\"><pre>DecisionTreeClassifier()</pre></div></div></div></div></div>"
      ],
      "text/plain": [
       "DecisionTreeClassifier()"
      ]
     },
     "execution_count": 132,
     "metadata": {},
     "output_type": "execute_result"
    }
   ],
   "source": [
    "classifier.fit(X_train,y_train)"
   ]
  },
  {
   "cell_type": "code",
   "execution_count": 133,
   "id": "e79302bf",
   "metadata": {},
   "outputs": [
    {
     "data": {
      "text/plain": [
       "array([1, 1, 1, 1, 0, 1, 0, 0, 1, 0, 1, 0, 1, 1, 0, 0, 0, 0, 0, 1, 1, 0,\n",
       "       0, 0, 1, 1, 1, 1, 0, 0, 1, 1, 1, 1, 0, 0, 1, 0, 0, 1, 1, 0, 1, 1,\n",
       "       1, 0, 1, 1, 1, 0, 0, 0, 1, 0, 0, 1, 0, 1, 1, 0, 1, 1, 0, 0, 1, 0,\n",
       "       0, 0, 0, 0, 0, 1, 1, 0, 0, 1, 0, 0, 0, 1, 0, 1, 1, 1, 1, 0, 0, 0,\n",
       "       0, 1, 0, 0, 0, 0, 1, 0, 1, 1, 0, 1, 0, 1, 1, 1, 1, 0, 1, 1, 1, 1,\n",
       "       0, 1, 0, 0, 1, 1, 0, 0, 0, 0, 1, 1, 0, 1, 1, 1, 0, 0, 0, 1, 1, 0,\n",
       "       1, 0, 0, 1, 0, 1, 0, 1, 1, 0, 1, 1, 1, 0, 1, 0, 0, 1, 1, 1, 0, 0,\n",
       "       1, 1, 0, 1, 0, 1, 0, 0, 1, 0, 1, 0, 0, 1, 0, 0, 0, 0, 0, 0, 1, 1,\n",
       "       0, 0, 0, 1, 0, 1, 1, 0, 0, 0, 1, 0, 0, 0, 1, 0, 0, 1, 1, 0, 1, 1,\n",
       "       0, 1, 1, 1, 1, 1, 1, 1, 0, 1, 1, 1, 0, 1, 1, 0, 1, 1, 0, 0, 0, 1,\n",
       "       0, 1, 0, 1, 0, 0, 1, 0, 0, 1, 1, 0, 1, 1, 1, 0, 1, 0, 0, 0, 1, 1,\n",
       "       0, 1, 0, 0, 0, 1, 1, 0, 1, 1, 1, 0, 0, 0, 1, 0, 1, 1, 0, 1, 1, 1,\n",
       "       0, 0, 0, 1, 0, 0, 1, 1, 1, 1, 0, 0, 0, 1, 1, 1, 0, 1, 0, 1, 0, 0,\n",
       "       1, 0, 0, 0, 0, 0, 1, 1, 0, 1, 0, 0, 0, 1])"
      ]
     },
     "execution_count": 133,
     "metadata": {},
     "output_type": "execute_result"
    }
   ],
   "source": [
    "classifier.predict(X_test)"
   ]
  },
  {
   "cell_type": "code",
   "execution_count": 134,
   "id": "a71c822b",
   "metadata": {},
   "outputs": [
    {
     "data": {
      "text/plain": [
       "array([[ 0.2367552 , -1.1732822 , -0.52225563, ..., -1.5214799 ,\n",
       "        -0.11921937,  0.81236382],\n",
       "       [-0.2617604 ,  0.12952109,  1.14452588, ...,  1.35202006,\n",
       "        -0.46267265,  0.94243986],\n",
       "       [ 1.33807728, -1.30420098,  2.66676421, ...,  0.96850423,\n",
       "         0.18671417,  0.17015913],\n",
       "       ...,\n",
       "       [ 0.25152637, -0.68742434, -1.38911409, ...,  0.07263119,\n",
       "        -2.10737716,  0.04972464],\n",
       "       [-0.46663012,  0.57716677, -0.7331692 , ...,  0.26184001,\n",
       "        -0.05184099,  0.79062698],\n",
       "       [ 1.45057469,  0.99509695,  3.57655933, ...,  0.57684985,\n",
       "         1.75098891, -0.6474472 ]])"
      ]
     },
     "execution_count": 134,
     "metadata": {},
     "output_type": "execute_result"
    }
   ],
   "source": [
    "X_test"
   ]
  },
  {
   "cell_type": "code",
   "execution_count": 135,
   "id": "26a0afae",
   "metadata": {},
   "outputs": [
    {
     "data": {
      "text/plain": [
       "0.88"
      ]
     },
     "execution_count": 135,
     "metadata": {},
     "output_type": "execute_result"
    }
   ],
   "source": [
    "classifier.score(X_test,y_test)"
   ]
  },
  {
   "cell_type": "code",
   "execution_count": 136,
   "id": "7c75d53c",
   "metadata": {},
   "outputs": [
    {
     "name": "stdout",
     "output_type": "stream",
     "text": [
      "Best parameters:  {'max_depth': 3, 'max_features': 'auto', 'min_samples_leaf': 1, 'min_samples_split': 2}\n",
      "Test accuracy:  0.8366666666666667\n"
     ]
    }
   ],
   "source": [
    "from sklearn.tree import DecisionTreeClassifier\n",
    "from sklearn.model_selection import GridSearchCV\n",
    "from sklearn.datasets import make_classification\n",
    "from sklearn.model_selection import train_test_split\n",
    "\n",
    "# Generate some example data\n",
    "X, y = make_classification(n_samples=1000, n_features=10)\n",
    "\n",
    "# Split the data into training and test sets\n",
    "X_train, X_test, y_train, y_test = train_test_split(X, y, test_size=0.3)\n",
    "\n",
    "# Define the parameter grid to search over\n",
    "param_grid = {\n",
    "    'max_depth': [3],\n",
    "    'min_samples_split': [2],\n",
    "    'min_samples_leaf': [1],\n",
    "    'max_features': ['auto']\n",
    "}\n",
    "\n",
    "# Create the decision tree classifier\n",
    "decision_tree = DecisionTreeClassifier()\n",
    "\n",
    "# Create the GridSearchCV object\n",
    "grid_search = GridSearchCV(decision_tree, param_grid, cv=5)\n",
    "\n",
    "# Fit the data to perform the search\n",
    "grid_search.fit(X_train, y_train)\n",
    "\n",
    "# Print the best parameters found\n",
    "print(\"Best parameters: \", grid_search.best_params_)\n",
    "\n",
    "# Evaluate the best model on the test set\n",
    "best_model = grid_search.best_estimator_\n",
    "accuracy = best_model.score(X_test, y_test)\n",
    "print(\"Test accuracy: \", accuracy)\n"
   ]
  },
  {
   "cell_type": "code",
   "execution_count": 137,
   "id": "2224a808",
   "metadata": {},
   "outputs": [],
   "source": [
    "from sklearn.model_selection import train_test_split\n"
   ]
  },
  {
   "cell_type": "code",
   "execution_count": 138,
   "id": "8b9bbd2b",
   "metadata": {},
   "outputs": [],
   "source": [
    " X_train,X_test,y_train,y_test =train_test_split(X,y,test_size=0.3)"
   ]
  },
  {
   "cell_type": "code",
   "execution_count": 139,
   "id": "dcf8f00e",
   "metadata": {},
   "outputs": [],
   "source": [
    "from sklearn.preprocessing import  StandardScaler\n",
    "scaler= StandardScaler()\n",
    "scaler.fit(X_train)\n",
    "x_train=scaler.transform(X_train)\n",
    "X_test=scaler.transform(X_test)\n"
   ]
  },
  {
   "cell_type": "code",
   "execution_count": 140,
   "id": "4d2ba7fb",
   "metadata": {},
   "outputs": [],
   "source": [
    "from sklearn.naive_bayes import GaussianNB"
   ]
  },
  {
   "cell_type": "code",
   "execution_count": 141,
   "id": "b82734ac",
   "metadata": {},
   "outputs": [],
   "source": [
    "from sklearn.metrics import confusion_matrix,accuracy_score,classification_report"
   ]
  },
  {
   "cell_type": "code",
   "execution_count": 142,
   "id": "52ab647a",
   "metadata": {},
   "outputs": [],
   "source": [
    "base=GaussianNB()"
   ]
  },
  {
   "cell_type": "code",
   "execution_count": 143,
   "id": "ee6addc8",
   "metadata": {},
   "outputs": [],
   "source": [
    "model=[base]"
   ]
  },
  {
   "cell_type": "code",
   "execution_count": 144,
   "id": "c5d48433",
   "metadata": {},
   "outputs": [
    {
     "name": "stdout",
     "output_type": "stream",
     "text": [
      "GaussianNB()\n",
      "............................................................\n",
      "0.8933333333333333\n",
      "[[134  13]\n",
      " [ 19 134]]\n",
      "              precision    recall  f1-score   support\n",
      "\n",
      "           0       0.88      0.91      0.89       147\n",
      "           1       0.91      0.88      0.89       153\n",
      "\n",
      "    accuracy                           0.89       300\n",
      "   macro avg       0.89      0.89      0.89       300\n",
      "weighted avg       0.89      0.89      0.89       300\n",
      "\n"
     ]
    }
   ],
   "source": [
    "for i in model:\n",
    "    print(i)\n",
    "    i.fit(X_train,y_train)\n",
    "    y_pred=i.predict(X_test)\n",
    "    print(\".\"*60)\n",
    "    print(accuracy_score(y_test,y_pred))\n",
    "    print(confusion_matrix(y_test,y_pred))\n",
    "    print(classification_report(y_test,y_pred))"
   ]
  },
  {
   "cell_type": "code",
   "execution_count": 145,
   "id": "1e0f401b",
   "metadata": {},
   "outputs": [
    {
     "name": "stdout",
     "output_type": "stream",
     "text": [
      "Best parameters:  {}\n",
      "Test accuracy:  0.9066666666666666\n"
     ]
    }
   ],
   "source": [
    "from sklearn.naive_bayes import GaussianNB\n",
    "from sklearn.model_selection import GridSearchCV\n",
    "from sklearn.datasets import make_classification\n",
    "from sklearn.model_selection import train_test_split\n",
    "\n",
    "# Generate some example data\n",
    "X, y = make_classification(n_samples=1000, n_features=10)\n",
    "\n",
    "# Split the data into training and test sets\n",
    "X_train, X_test, y_train, y_test = train_test_split(X, y, test_size=0.3)\n",
    "\n",
    "# Define the parameter grid to search over (No hyperparameters for Gaussian Naive Bayes)\n",
    "param_grid = {}\n",
    "\n",
    "# Create the Gaussian Naive Bayes classifier\n",
    "naive_bayes = GaussianNB()\n",
    "\n",
    "# Create the GridSearchCV object\n",
    "grid_search = GridSearchCV(naive_bayes, param_grid, cv=5)\n",
    "\n",
    "# Fit the data to perform the search\n",
    "grid_search.fit(X_train, y_train)\n",
    "\n",
    "# Print the best parameters found\n",
    "print(\"Best parameters: \", grid_search.best_params_)\n",
    "\n",
    "# Evaluate the best model on the test set\n",
    "best_model = grid_search.best_estimator_\n",
    "accuracy = best_model.score(X_test, y_test)\n",
    "print(\"Test accuracy: \", accuracy)"
   ]
  },
  {
   "cell_type": "code",
   "execution_count": 146,
   "id": "b25ef466",
   "metadata": {},
   "outputs": [],
   "source": [
    "from sklearn.neighbors import KNeighborsClassifier"
   ]
  },
  {
   "cell_type": "code",
   "execution_count": 147,
   "id": "46e2dacc",
   "metadata": {},
   "outputs": [
    {
     "name": "stdout",
     "output_type": "stream",
     "text": [
      "GaussianNB()\n",
      "............................................................\n",
      "0.9066666666666666\n",
      "[[137  10]\n",
      " [ 18 135]]\n",
      "              precision    recall  f1-score   support\n",
      "\n",
      "           0       0.88      0.93      0.91       147\n",
      "           1       0.93      0.88      0.91       153\n",
      "\n",
      "    accuracy                           0.91       300\n",
      "   macro avg       0.91      0.91      0.91       300\n",
      "weighted avg       0.91      0.91      0.91       300\n",
      "\n"
     ]
    }
   ],
   "source": [
    "for i in model:\n",
    "    print(i)\n",
    "    i.fit(X_train,y_train)\n",
    "    y_pred=i.predict(X_test)\n",
    "    print(\".\"*60)\n",
    "    print(accuracy_score(y_test,y_pred))\n",
    "    print(confusion_matrix(y_test,y_pred))\n",
    "    print(classification_report(y_test,y_pred))"
   ]
  },
  {
   "cell_type": "code",
   "execution_count": 148,
   "id": "ffcd644e",
   "metadata": {},
   "outputs": [],
   "source": [
    "from sklearn.neighbors import KNeighborsClassifier\n",
    "from sklearn.model_selection import GridSearchCV\n",
    "from sklearn.datasets import make_classification\n",
    "from sklearn.model_selection import train_test_split"
   ]
  },
  {
   "cell_type": "code",
   "execution_count": 149,
   "id": "7232545f",
   "metadata": {},
   "outputs": [
    {
     "name": "stdout",
     "output_type": "stream",
     "text": [
      "Best parameters:  {'metric': 'euclidean', 'n_neighbors': 5, 'weights': 'uniform'}\n",
      "Test accuracy:  0.8966666666666666\n"
     ]
    }
   ],
   "source": [
    "# Generate some example data\n",
    "X, y = make_classification(n_samples=1000, n_features=10)\n",
    "\n",
    "# Split the data into training and test sets\n",
    "X_train, X_test, y_train, y_test = train_test_split(X, y, test_size=0.3)\n",
    "\n",
    "# Define the parameter grid to search over\n",
    "param_grid = {\n",
    "    'n_neighbors': [ 5],\n",
    "    'weights': ['uniform'],\n",
    "    'metric': ['euclidean']\n",
    "}\n",
    "\n",
    "# Create the KNN classifier\n",
    "knn = KNeighborsClassifier()\n",
    "\n",
    "# Create the GridSearchCV object\n",
    "grid_search = GridSearchCV(knn, param_grid, cv=5)\n",
    "\n",
    "# Fit the data to perform the search\n",
    "grid_search.fit(X_train, y_train)\n",
    "\n",
    "# Print the best parameters found\n",
    "print(\"Best parameters: \", grid_search.best_params_)\n",
    "\n",
    "# Evaluate the best model on the test set\n",
    "best_model = grid_search.best_estimator_\n",
    "accuracy = best_model.score(X_test, y_test)\n",
    "print(\"Test accuracy: \", accuracy)"
   ]
  },
  {
   "cell_type": "code",
   "execution_count": null,
   "id": "cbc4832e",
   "metadata": {},
   "outputs": [],
   "source": []
  }
 ],
 "metadata": {
  "kernelspec": {
   "display_name": "Python 3 (ipykernel)",
   "language": "python",
   "name": "python3"
  },
  "language_info": {
   "codemirror_mode": {
    "name": "ipython",
    "version": 3
   },
   "file_extension": ".py",
   "mimetype": "text/x-python",
   "name": "python",
   "nbconvert_exporter": "python",
   "pygments_lexer": "ipython3",
   "version": "3.10.9"
  }
 },
 "nbformat": 4,
 "nbformat_minor": 5
}
